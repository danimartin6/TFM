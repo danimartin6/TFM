{
  "cells": [
    {
      "cell_type": "markdown",
      "source": [
        "# DESARROLLO PROYECTO TFM"
      ],
      "metadata": {
        "id": "hqrQfB3y-QqG"
      }
    },
    {
      "cell_type": "markdown",
      "source": [
        "En esta página se desarrollará el código python con el que se ha desarrollado el proyecto del TFM. Se construirá el modelo de regresión logística más parsimonioso y mejor ajustado para predecir si un paciente puede sufrir una cardiopatía coronaria en 10 años a partir de ciertas variables predictoras. \n",
        "\n",
        "\n"
      ],
      "metadata": {
        "id": "B04ddM6F-SpP"
      }
    },
    {
      "cell_type": "markdown",
      "source": [
        "## Importación de librerías"
      ],
      "metadata": {
        "id": "R22gQtLO-zzg"
      }
    },
    {
      "cell_type": "code",
      "execution_count": 1,
      "metadata": {
        "id": "-MtJ2szEigrs"
      },
      "outputs": [],
      "source": [
        "# import packages\n",
        "import pandas as pd\n",
        "import numpy as np\n",
        "import seaborn as sns\n",
        "\n",
        "import matplotlib.pyplot as plt\n",
        "import matplotlib.mlab as mlab\n",
        "import matplotlib\n",
        "plt.style.use('ggplot')\n",
        "from matplotlib.pyplot import figure\n",
        "\n",
        "%matplotlib inline\n",
        "matplotlib.rcParams['figure.figsize'] = (12,8)\n",
        "\n",
        "pd.options.mode.chained_assignment = None"
      ]
    },
    {
      "cell_type": "markdown",
      "source": [
        "##Importanción del conjunto de datos"
      ],
      "metadata": {
        "id": "LrRNgwGS-2yS"
      }
    },
    {
      "cell_type": "code",
      "execution_count": 2,
      "metadata": {
        "colab": {
          "base_uri": "https://localhost:8080/",
          "height": 206
        },
        "id": "NxKKv4Z-ii5i",
        "outputId": "e13b13dc-8ec6-490c-b58e-50393799a4e3"
      },
      "outputs": [
        {
          "output_type": "execute_result",
          "data": {
            "text/plain": [
              "   age sex is_smoking  cigsPerDay  BPMeds  prevalentStroke  prevalentHyp  \\\n",
              "0   64   F        YES         3.0     0.0                0             0   \n",
              "1   36   M         NO         0.0     0.0                0             1   \n",
              "2   46   F        YES        10.0     0.0                0             0   \n",
              "3   50   M        YES        20.0     0.0                0             1   \n",
              "4   64   F        YES        30.0     0.0                0             0   \n",
              "\n",
              "   diabetes  totChol  sysBP  diaBP    BMI  heartRate  glucose  TenYearCHD  \n",
              "0         0    221.0  148.0   85.0    NaN       90.0     80.0           1  \n",
              "1         0    212.0  168.0   98.0  29.77       72.0     75.0           0  \n",
              "2         0    250.0  116.0   71.0  20.35       88.0     94.0           0  \n",
              "3         0    233.0  158.0   88.0  28.26       68.0     94.0           1  \n",
              "4         0    241.0  136.5   85.0  26.42       70.0     77.0           0  "
            ],
            "text/html": [
              "\n",
              "  <div id=\"df-95866503-cee8-4e2c-9fd8-ae1eb325ef7a\">\n",
              "    <div class=\"colab-df-container\">\n",
              "      <div>\n",
              "<style scoped>\n",
              "    .dataframe tbody tr th:only-of-type {\n",
              "        vertical-align: middle;\n",
              "    }\n",
              "\n",
              "    .dataframe tbody tr th {\n",
              "        vertical-align: top;\n",
              "    }\n",
              "\n",
              "    .dataframe thead th {\n",
              "        text-align: right;\n",
              "    }\n",
              "</style>\n",
              "<table border=\"1\" class=\"dataframe\">\n",
              "  <thead>\n",
              "    <tr style=\"text-align: right;\">\n",
              "      <th></th>\n",
              "      <th>age</th>\n",
              "      <th>sex</th>\n",
              "      <th>is_smoking</th>\n",
              "      <th>cigsPerDay</th>\n",
              "      <th>BPMeds</th>\n",
              "      <th>prevalentStroke</th>\n",
              "      <th>prevalentHyp</th>\n",
              "      <th>diabetes</th>\n",
              "      <th>totChol</th>\n",
              "      <th>sysBP</th>\n",
              "      <th>diaBP</th>\n",
              "      <th>BMI</th>\n",
              "      <th>heartRate</th>\n",
              "      <th>glucose</th>\n",
              "      <th>TenYearCHD</th>\n",
              "    </tr>\n",
              "  </thead>\n",
              "  <tbody>\n",
              "    <tr>\n",
              "      <th>0</th>\n",
              "      <td>64</td>\n",
              "      <td>F</td>\n",
              "      <td>YES</td>\n",
              "      <td>3.0</td>\n",
              "      <td>0.0</td>\n",
              "      <td>0</td>\n",
              "      <td>0</td>\n",
              "      <td>0</td>\n",
              "      <td>221.0</td>\n",
              "      <td>148.0</td>\n",
              "      <td>85.0</td>\n",
              "      <td>NaN</td>\n",
              "      <td>90.0</td>\n",
              "      <td>80.0</td>\n",
              "      <td>1</td>\n",
              "    </tr>\n",
              "    <tr>\n",
              "      <th>1</th>\n",
              "      <td>36</td>\n",
              "      <td>M</td>\n",
              "      <td>NO</td>\n",
              "      <td>0.0</td>\n",
              "      <td>0.0</td>\n",
              "      <td>0</td>\n",
              "      <td>1</td>\n",
              "      <td>0</td>\n",
              "      <td>212.0</td>\n",
              "      <td>168.0</td>\n",
              "      <td>98.0</td>\n",
              "      <td>29.77</td>\n",
              "      <td>72.0</td>\n",
              "      <td>75.0</td>\n",
              "      <td>0</td>\n",
              "    </tr>\n",
              "    <tr>\n",
              "      <th>2</th>\n",
              "      <td>46</td>\n",
              "      <td>F</td>\n",
              "      <td>YES</td>\n",
              "      <td>10.0</td>\n",
              "      <td>0.0</td>\n",
              "      <td>0</td>\n",
              "      <td>0</td>\n",
              "      <td>0</td>\n",
              "      <td>250.0</td>\n",
              "      <td>116.0</td>\n",
              "      <td>71.0</td>\n",
              "      <td>20.35</td>\n",
              "      <td>88.0</td>\n",
              "      <td>94.0</td>\n",
              "      <td>0</td>\n",
              "    </tr>\n",
              "    <tr>\n",
              "      <th>3</th>\n",
              "      <td>50</td>\n",
              "      <td>M</td>\n",
              "      <td>YES</td>\n",
              "      <td>20.0</td>\n",
              "      <td>0.0</td>\n",
              "      <td>0</td>\n",
              "      <td>1</td>\n",
              "      <td>0</td>\n",
              "      <td>233.0</td>\n",
              "      <td>158.0</td>\n",
              "      <td>88.0</td>\n",
              "      <td>28.26</td>\n",
              "      <td>68.0</td>\n",
              "      <td>94.0</td>\n",
              "      <td>1</td>\n",
              "    </tr>\n",
              "    <tr>\n",
              "      <th>4</th>\n",
              "      <td>64</td>\n",
              "      <td>F</td>\n",
              "      <td>YES</td>\n",
              "      <td>30.0</td>\n",
              "      <td>0.0</td>\n",
              "      <td>0</td>\n",
              "      <td>0</td>\n",
              "      <td>0</td>\n",
              "      <td>241.0</td>\n",
              "      <td>136.5</td>\n",
              "      <td>85.0</td>\n",
              "      <td>26.42</td>\n",
              "      <td>70.0</td>\n",
              "      <td>77.0</td>\n",
              "      <td>0</td>\n",
              "    </tr>\n",
              "  </tbody>\n",
              "</table>\n",
              "</div>\n",
              "      <button class=\"colab-df-convert\" onclick=\"convertToInteractive('df-95866503-cee8-4e2c-9fd8-ae1eb325ef7a')\"\n",
              "              title=\"Convert this dataframe to an interactive table.\"\n",
              "              style=\"display:none;\">\n",
              "        \n",
              "  <svg xmlns=\"http://www.w3.org/2000/svg\" height=\"24px\"viewBox=\"0 0 24 24\"\n",
              "       width=\"24px\">\n",
              "    <path d=\"M0 0h24v24H0V0z\" fill=\"none\"/>\n",
              "    <path d=\"M18.56 5.44l.94 2.06.94-2.06 2.06-.94-2.06-.94-.94-2.06-.94 2.06-2.06.94zm-11 1L8.5 8.5l.94-2.06 2.06-.94-2.06-.94L8.5 2.5l-.94 2.06-2.06.94zm10 10l.94 2.06.94-2.06 2.06-.94-2.06-.94-.94-2.06-.94 2.06-2.06.94z\"/><path d=\"M17.41 7.96l-1.37-1.37c-.4-.4-.92-.59-1.43-.59-.52 0-1.04.2-1.43.59L10.3 9.45l-7.72 7.72c-.78.78-.78 2.05 0 2.83L4 21.41c.39.39.9.59 1.41.59.51 0 1.02-.2 1.41-.59l7.78-7.78 2.81-2.81c.8-.78.8-2.07 0-2.86zM5.41 20L4 18.59l7.72-7.72 1.47 1.35L5.41 20z\"/>\n",
              "  </svg>\n",
              "      </button>\n",
              "      \n",
              "  <style>\n",
              "    .colab-df-container {\n",
              "      display:flex;\n",
              "      flex-wrap:wrap;\n",
              "      gap: 12px;\n",
              "    }\n",
              "\n",
              "    .colab-df-convert {\n",
              "      background-color: #E8F0FE;\n",
              "      border: none;\n",
              "      border-radius: 50%;\n",
              "      cursor: pointer;\n",
              "      display: none;\n",
              "      fill: #1967D2;\n",
              "      height: 32px;\n",
              "      padding: 0 0 0 0;\n",
              "      width: 32px;\n",
              "    }\n",
              "\n",
              "    .colab-df-convert:hover {\n",
              "      background-color: #E2EBFA;\n",
              "      box-shadow: 0px 1px 2px rgba(60, 64, 67, 0.3), 0px 1px 3px 1px rgba(60, 64, 67, 0.15);\n",
              "      fill: #174EA6;\n",
              "    }\n",
              "\n",
              "    [theme=dark] .colab-df-convert {\n",
              "      background-color: #3B4455;\n",
              "      fill: #D2E3FC;\n",
              "    }\n",
              "\n",
              "    [theme=dark] .colab-df-convert:hover {\n",
              "      background-color: #434B5C;\n",
              "      box-shadow: 0px 1px 3px 1px rgba(0, 0, 0, 0.15);\n",
              "      filter: drop-shadow(0px 1px 2px rgba(0, 0, 0, 0.3));\n",
              "      fill: #FFFFFF;\n",
              "    }\n",
              "  </style>\n",
              "\n",
              "      <script>\n",
              "        const buttonEl =\n",
              "          document.querySelector('#df-95866503-cee8-4e2c-9fd8-ae1eb325ef7a button.colab-df-convert');\n",
              "        buttonEl.style.display =\n",
              "          google.colab.kernel.accessAllowed ? 'block' : 'none';\n",
              "\n",
              "        async function convertToInteractive(key) {\n",
              "          const element = document.querySelector('#df-95866503-cee8-4e2c-9fd8-ae1eb325ef7a');\n",
              "          const dataTable =\n",
              "            await google.colab.kernel.invokeFunction('convertToInteractive',\n",
              "                                                     [key], {});\n",
              "          if (!dataTable) return;\n",
              "\n",
              "          const docLinkHtml = 'Like what you see? Visit the ' +\n",
              "            '<a target=\"_blank\" href=https://colab.research.google.com/notebooks/data_table.ipynb>data table notebook</a>'\n",
              "            + ' to learn more about interactive tables.';\n",
              "          element.innerHTML = '';\n",
              "          dataTable['output_type'] = 'display_data';\n",
              "          await google.colab.output.renderOutput(dataTable, element);\n",
              "          const docLink = document.createElement('div');\n",
              "          docLink.innerHTML = docLinkHtml;\n",
              "          element.appendChild(docLink);\n",
              "        }\n",
              "      </script>\n",
              "    </div>\n",
              "  </div>\n",
              "  "
            ]
          },
          "metadata": {},
          "execution_count": 2
        }
      ],
      "source": [
        "# read the data\n",
        "df = pd.read_csv('train.csv')\n",
        "df = df.drop(['education','id'], axis=1)\n",
        "df.head()"
      ]
    },
    {
      "cell_type": "markdown",
      "source": [
        "Dimensiones del dataset y tipos de variables que contiene"
      ],
      "metadata": {
        "id": "in1wcjWA-7r1"
      }
    },
    {
      "cell_type": "code",
      "execution_count": 3,
      "metadata": {
        "colab": {
          "base_uri": "https://localhost:8080/"
        },
        "id": "xpFbo6Eyi3ty",
        "outputId": "cc809e5e-5ae4-4373-9bd4-5fa9d6593ed4"
      },
      "outputs": [
        {
          "output_type": "stream",
          "name": "stdout",
          "text": [
            "(3390, 15)\n",
            "age                  int64\n",
            "sex                 object\n",
            "is_smoking          object\n",
            "cigsPerDay         float64\n",
            "BPMeds             float64\n",
            "prevalentStroke      int64\n",
            "prevalentHyp         int64\n",
            "diabetes             int64\n",
            "totChol            float64\n",
            "sysBP              float64\n",
            "diaBP              float64\n",
            "BMI                float64\n",
            "heartRate          float64\n",
            "glucose            float64\n",
            "TenYearCHD           int64\n",
            "dtype: object\n"
          ]
        }
      ],
      "source": [
        "# shape and data types of the data\n",
        "print(df.shape)\n",
        "print(df.dtypes)"
      ]
    },
    {
      "cell_type": "markdown",
      "metadata": {
        "id": "MkfOazLPi_1J"
      },
      "source": [
        "VARIABLES NUMÉRICAS"
      ]
    },
    {
      "cell_type": "markdown",
      "source": [
        "Variables numéricas que componen el dataset"
      ],
      "metadata": {
        "id": "Nj9PBzjn_C0r"
      }
    },
    {
      "cell_type": "code",
      "execution_count": 4,
      "metadata": {
        "colab": {
          "base_uri": "https://localhost:8080/"
        },
        "id": "Ol1qYRQai-YJ",
        "outputId": "63ef1f99-abf2-4d5d-98ba-c6fc351dc631"
      },
      "outputs": [
        {
          "output_type": "stream",
          "name": "stdout",
          "text": [
            "['age' 'cigsPerDay' 'BPMeds' 'prevalentStroke' 'prevalentHyp' 'diabetes'\n",
            " 'totChol' 'sysBP' 'diaBP' 'BMI' 'heartRate' 'glucose' 'TenYearCHD']\n"
          ]
        }
      ],
      "source": [
        "df_numeric = df.select_dtypes(include=[np.number])\n",
        "numeric_cols = df_numeric.columns.values\n",
        "print(numeric_cols)"
      ]
    },
    {
      "cell_type": "markdown",
      "metadata": {
        "id": "GYkvZ8hgjEev"
      },
      "source": [
        "VARIABLES NO NUMÉRICAS"
      ]
    },
    {
      "cell_type": "markdown",
      "source": [
        "Variables categóricas que componen el dataset"
      ],
      "metadata": {
        "id": "gUwVXevs_H88"
      }
    },
    {
      "cell_type": "code",
      "execution_count": 5,
      "metadata": {
        "colab": {
          "base_uri": "https://localhost:8080/"
        },
        "id": "dY-7rs8tjF-g",
        "outputId": "d4883a11-e693-4442-9488-e99010eaa8eb"
      },
      "outputs": [
        {
          "output_type": "stream",
          "name": "stdout",
          "text": [
            "['sex' 'is_smoking']\n"
          ]
        }
      ],
      "source": [
        "# select non numeric columns\n",
        "df_non_numeric = df.select_dtypes(exclude=[np.number])\n",
        "non_numeric_cols = df_non_numeric.columns.values\n",
        "print(non_numeric_cols)"
      ]
    },
    {
      "cell_type": "markdown",
      "source": [
        "## Datos faltantes (missing values)"
      ],
      "metadata": {
        "id": "7O3R-rnK5q1a"
      }
    },
    {
      "cell_type": "markdown",
      "metadata": {
        "id": "qGbOZnp9jrwT"
      },
      "source": [
        "### Mapa de calor de valores faltantes"
      ]
    },
    {
      "cell_type": "code",
      "execution_count": 6,
      "metadata": {
        "colab": {
          "base_uri": "https://localhost:8080/",
          "height": 574
        },
        "id": "sqxZWKK_jt8C",
        "outputId": "6aa4a432-d88d-46ef-bfc3-2107e2dc93ad"
      },
      "outputs": [
        {
          "output_type": "execute_result",
          "data": {
            "text/plain": [
              "<matplotlib.axes._subplots.AxesSubplot at 0x7f20da6bac50>"
            ]
          },
          "metadata": {},
          "execution_count": 6
        },
        {
          "output_type": "display_data",
          "data": {
            "text/plain": [
              "<Figure size 864x576 with 2 Axes>"
            ],
            "image/png": "[encoded data removed]"
          },
          "metadata": {
            "needs_background": "light"
          }
        }
      ],
      "source": [
        "cols = df.columns\n",
        "colours = ['#000099', '#ffff00'] # specify the colours - yellow is missing. blue is not missing.\n",
        "sns.heatmap(df[cols].isnull(), cmap=sns.color_palette(colours))"
      ]
    },
    {
      "cell_type": "markdown",
      "source": [
        "### Lista de porcentajes de valores faltantes por columna"
      ],
      "metadata": {
        "id": "ek-WhzW6_Vuh"
      }
    },
    {
      "cell_type": "code",
      "execution_count": 7,
      "metadata": {
        "colab": {
          "base_uri": "https://localhost:8080/"
        },
        "id": "a9jZpDRwj_gO",
        "outputId": "2e91cad6-3699-46a0-9eed-a9c192e0cffe"
      },
      "outputs": [
        {
          "output_type": "stream",
          "name": "stdout",
          "text": [
            "age - 0.0%\n",
            "sex - 0.0%\n",
            "is_smoking - 0.0%\n",
            "cigsPerDay - 0.6489675516224189%\n",
            "BPMeds - 1.2979351032448379%\n",
            "prevalentStroke - 0.0%\n",
            "prevalentHyp - 0.0%\n",
            "diabetes - 0.0%\n",
            "totChol - 1.12094395280236%\n",
            "sysBP - 0.0%\n",
            "diaBP - 0.0%\n",
            "BMI - 0.41297935103244837%\n",
            "heartRate - 0.029498525073746312%\n",
            "glucose - 8.96755162241888%\n",
            "TenYearCHD - 0.0%\n"
          ]
        }
      ],
      "source": [
        "# if it's a larger dataset and the visualization takes too long can do this.\n",
        "# % of missing.\n",
        "for col in df.columns:\n",
        "    pct_missing = np.mean(df[col].isnull())\n",
        "    print('{} - {}%'.format(col, pct_missing*100))"
      ]
    },
    {
      "cell_type": "markdown",
      "metadata": {
        "id": "4GVyMPsYkQkR"
      },
      "source": [
        "### Histograma de valores faltantes por observación"
      ]
    },
    {
      "cell_type": "code",
      "execution_count": 8,
      "metadata": {
        "colab": {
          "base_uri": "https://localhost:8080/",
          "height": 617
        },
        "id": "s4NOBgBdkSpi",
        "outputId": "ef73bbad-f5f8-45d9-94a9-87883e95be79"
      },
      "outputs": [
        {
          "output_type": "stream",
          "name": "stdout",
          "text": [
            "created missing indicator for: cigsPerDay\n",
            "created missing indicator for: BPMeds\n",
            "created missing indicator for: totChol\n",
            "created missing indicator for: BMI\n",
            "created missing indicator for: heartRate\n",
            "created missing indicator for: glucose\n"
          ]
        },
        {
          "output_type": "execute_result",
          "data": {
            "text/plain": [
              "<matplotlib.axes._subplots.AxesSubplot at 0x7f20c14e7110>"
            ]
          },
          "metadata": {},
          "execution_count": 8
        },
        {
          "output_type": "display_data",
          "data": {
            "text/plain": [
              "<Figure size 864x576 with 1 Axes>"
            ],
            "image/png": "[encoded data removed]"
          },
          "metadata": {
            "needs_background": "light"
          }
        }
      ],
      "source": [
        "# first create missing indicator for features with missing data\n",
        "for col in df.columns:\n",
        "    missing = df[col].isnull()\n",
        "    num_missing = np.sum(missing)\n",
        "    \n",
        "    if num_missing > 0:  \n",
        "        print('created missing indicator for: {}'.format(col))\n",
        "        df['{}_ismissing'.format(col)] = missing\n",
        "\n",
        "\n",
        "# then based on the indicator, plot the histogram of missing values\n",
        "ismissing_cols = [col for col in df.columns if 'ismissing' in col]\n",
        "df['num_missing'] = df[ismissing_cols].sum(axis=1)\n",
        "\n",
        "df['num_missing'].value_counts().reset_index().sort_values(by='index').plot.bar(x='index', y='num_missing')"
      ]
    },
    {
      "cell_type": "code",
      "execution_count": 9,
      "metadata": {
        "colab": {
          "base_uri": "https://localhost:8080/",
          "height": 206
        },
        "id": "sOdeNiNDZo7N",
        "outputId": "003e3a4c-10b3-4dcb-abe5-1eb1c9e46012"
      },
      "outputs": [
        {
          "output_type": "execute_result",
          "data": {
            "text/plain": [
              "   age sex is_smoking  cigsPerDay  BPMeds  prevalentStroke  prevalentHyp  \\\n",
              "0   64   F        YES         3.0     0.0                0             0   \n",
              "1   36   M         NO         0.0     0.0                0             1   \n",
              "2   46   F        YES        10.0     0.0                0             0   \n",
              "3   50   M        YES        20.0     0.0                0             1   \n",
              "4   64   F        YES        30.0     0.0                0             0   \n",
              "\n",
              "   diabetes  totChol  sysBP  diaBP    BMI  heartRate  glucose  TenYearCHD  \n",
              "0         0    221.0  148.0   85.0    NaN       90.0     80.0           1  \n",
              "1         0    212.0  168.0   98.0  29.77       72.0     75.0           0  \n",
              "2         0    250.0  116.0   71.0  20.35       88.0     94.0           0  \n",
              "3         0    233.0  158.0   88.0  28.26       68.0     94.0           1  \n",
              "4         0    241.0  136.5   85.0  26.42       70.0     77.0           0  "
            ],
            "text/html": [
              "\n",
              "  <div id=\"df-2d8f651f-1d04-42a2-a2b8-1534c1d7d025\">\n",
              "    <div class=\"colab-df-container\">\n",
              "      <div>\n",
              "<style scoped>\n",
              "    .dataframe tbody tr th:only-of-type {\n",
              "        vertical-align: middle;\n",
              "    }\n",
              "\n",
              "    .dataframe tbody tr th {\n",
              "        vertical-align: top;\n",
              "    }\n",
              "\n",
              "    .dataframe thead th {\n",
              "        text-align: right;\n",
              "    }\n",
              "</style>\n",
              "<table border=\"1\" class=\"dataframe\">\n",
              "  <thead>\n",
              "    <tr style=\"text-align: right;\">\n",
              "      <th></th>\n",
              "      <th>age</th>\n",
              "      <th>sex</th>\n",
              "      <th>is_smoking</th>\n",
              "      <th>cigsPerDay</th>\n",
              "      <th>BPMeds</th>\n",
              "      <th>prevalentStroke</th>\n",
              "      <th>prevalentHyp</th>\n",
              "      <th>diabetes</th>\n",
              "      <th>totChol</th>\n",
              "      <th>sysBP</th>\n",
              "      <th>diaBP</th>\n",
              "      <th>BMI</th>\n",
              "      <th>heartRate</th>\n",
              "      <th>glucose</th>\n",
              "      <th>TenYearCHD</th>\n",
              "    </tr>\n",
              "  </thead>\n",
              "  <tbody>\n",
              "    <tr>\n",
              "      <th>0</th>\n",
              "      <td>64</td>\n",
              "      <td>F</td>\n",
              "      <td>YES</td>\n",
              "      <td>3.0</td>\n",
              "      <td>0.0</td>\n",
              "      <td>0</td>\n",
              "      <td>0</td>\n",
              "      <td>0</td>\n",
              "      <td>221.0</td>\n",
              "      <td>148.0</td>\n",
              "      <td>85.0</td>\n",
              "      <td>NaN</td>\n",
              "      <td>90.0</td>\n",
              "      <td>80.0</td>\n",
              "      <td>1</td>\n",
              "    </tr>\n",
              "    <tr>\n",
              "      <th>1</th>\n",
              "      <td>36</td>\n",
              "      <td>M</td>\n",
              "      <td>NO</td>\n",
              "      <td>0.0</td>\n",
              "      <td>0.0</td>\n",
              "      <td>0</td>\n",
              "      <td>1</td>\n",
              "      <td>0</td>\n",
              "      <td>212.0</td>\n",
              "      <td>168.0</td>\n",
              "      <td>98.0</td>\n",
              "      <td>29.77</td>\n",
              "      <td>72.0</td>\n",
              "      <td>75.0</td>\n",
              "      <td>0</td>\n",
              "    </tr>\n",
              "    <tr>\n",
              "      <th>2</th>\n",
              "      <td>46</td>\n",
              "      <td>F</td>\n",
              "      <td>YES</td>\n",
              "      <td>10.0</td>\n",
              "      <td>0.0</td>\n",
              "      <td>0</td>\n",
              "      <td>0</td>\n",
              "      <td>0</td>\n",
              "      <td>250.0</td>\n",
              "      <td>116.0</td>\n",
              "      <td>71.0</td>\n",
              "      <td>20.35</td>\n",
              "      <td>88.0</td>\n",
              "      <td>94.0</td>\n",
              "      <td>0</td>\n",
              "    </tr>\n",
              "    <tr>\n",
              "      <th>3</th>\n",
              "      <td>50</td>\n",
              "      <td>M</td>\n",
              "      <td>YES</td>\n",
              "      <td>20.0</td>\n",
              "      <td>0.0</td>\n",
              "      <td>0</td>\n",
              "      <td>1</td>\n",
              "      <td>0</td>\n",
              "      <td>233.0</td>\n",
              "      <td>158.0</td>\n",
              "      <td>88.0</td>\n",
              "      <td>28.26</td>\n",
              "      <td>68.0</td>\n",
              "      <td>94.0</td>\n",
              "      <td>1</td>\n",
              "    </tr>\n",
              "    <tr>\n",
              "      <th>4</th>\n",
              "      <td>64</td>\n",
              "      <td>F</td>\n",
              "      <td>YES</td>\n",
              "      <td>30.0</td>\n",
              "      <td>0.0</td>\n",
              "      <td>0</td>\n",
              "      <td>0</td>\n",
              "      <td>0</td>\n",
              "      <td>241.0</td>\n",
              "      <td>136.5</td>\n",
              "      <td>85.0</td>\n",
              "      <td>26.42</td>\n",
              "      <td>70.0</td>\n",
              "      <td>77.0</td>\n",
              "      <td>0</td>\n",
              "    </tr>\n",
              "  </tbody>\n",
              "</table>\n",
              "</div>\n",
              "      <button class=\"colab-df-convert\" onclick=\"convertToInteractive('df-2d8f651f-1d04-42a2-a2b8-1534c1d7d025')\"\n",
              "              title=\"Convert this dataframe to an interactive table.\"\n",
              "              style=\"display:none;\">\n",
              "        \n",
              "  <svg xmlns=\"http://www.w3.org/2000/svg\" height=\"24px\"viewBox=\"0 0 24 24\"\n",
              "       width=\"24px\">\n",
              "    <path d=\"M0 0h24v24H0V0z\" fill=\"none\"/>\n",
              "    <path d=\"M18.56 5.44l.94 2.06.94-2.06 2.06-.94-2.06-.94-.94-2.06-.94 2.06-2.06.94zm-11 1L8.5 8.5l.94-2.06 2.06-.94-2.06-.94L8.5 2.5l-.94 2.06-2.06.94zm10 10l.94 2.06.94-2.06 2.06-.94-2.06-.94-.94-2.06-.94 2.06-2.06.94z\"/><path d=\"M17.41 7.96l-1.37-1.37c-.4-.4-.92-.59-1.43-.59-.52 0-1.04.2-1.43.59L10.3 9.45l-7.72 7.72c-.78.78-.78 2.05 0 2.83L4 21.41c.39.39.9.59 1.41.59.51 0 1.02-.2 1.41-.59l7.78-7.78 2.81-2.81c.8-.78.8-2.07 0-2.86zM5.41 20L4 18.59l7.72-7.72 1.47 1.35L5.41 20z\"/>\n",
              "  </svg>\n",
              "      </button>\n",
              "      \n",
              "  <style>\n",
              "    .colab-df-container {\n",
              "      display:flex;\n",
              "      flex-wrap:wrap;\n",
              "      gap: 12px;\n",
              "    }\n",
              "\n",
              "    .colab-df-convert {\n",
              "      background-color: #E8F0FE;\n",
              "      border: none;\n",
              "      border-radius: 50%;\n",
              "      cursor: pointer;\n",
              "      display: none;\n",
              "      fill: #1967D2;\n",
              "      height: 32px;\n",
              "      padding: 0 0 0 0;\n",
              "      width: 32px;\n",
              "    }\n",
              "\n",
              "    .colab-df-convert:hover {\n",
              "      background-color: #E2EBFA;\n",
              "      box-shadow: 0px 1px 2px rgba(60, 64, 67, 0.3), 0px 1px 3px 1px rgba(60, 64, 67, 0.15);\n",
              "      fill: #174EA6;\n",
              "    }\n",
              "\n",
              "    [theme=dark] .colab-df-convert {\n",
              "      background-color: #3B4455;\n",
              "      fill: #D2E3FC;\n",
              "    }\n",
              "\n",
              "    [theme=dark] .colab-df-convert:hover {\n",
              "      background-color: #434B5C;\n",
              "      box-shadow: 0px 1px 3px 1px rgba(0, 0, 0, 0.15);\n",
              "      filter: drop-shadow(0px 1px 2px rgba(0, 0, 0, 0.3));\n",
              "      fill: #FFFFFF;\n",
              "    }\n",
              "  </style>\n",
              "\n",
              "      <script>\n",
              "        const buttonEl =\n",
              "          document.querySelector('#df-2d8f651f-1d04-42a2-a2b8-1534c1d7d025 button.colab-df-convert');\n",
              "        buttonEl.style.display =\n",
              "          google.colab.kernel.accessAllowed ? 'block' : 'none';\n",
              "\n",
              "        async function convertToInteractive(key) {\n",
              "          const element = document.querySelector('#df-2d8f651f-1d04-42a2-a2b8-1534c1d7d025');\n",
              "          const dataTable =\n",
              "            await google.colab.kernel.invokeFunction('convertToInteractive',\n",
              "                                                     [key], {});\n",
              "          if (!dataTable) return;\n",
              "\n",
              "          const docLinkHtml = 'Like what you see? Visit the ' +\n",
              "            '<a target=\"_blank\" href=https://colab.research.google.com/notebooks/data_table.ipynb>data table notebook</a>'\n",
              "            + ' to learn more about interactive tables.';\n",
              "          element.innerHTML = '';\n",
              "          dataTable['output_type'] = 'display_data';\n",
              "          await google.colab.output.renderOutput(dataTable, element);\n",
              "          const docLink = document.createElement('div');\n",
              "          docLink.innerHTML = docLinkHtml;\n",
              "          element.appendChild(docLink);\n",
              "        }\n",
              "      </script>\n",
              "    </div>\n",
              "  </div>\n",
              "  "
            ]
          },
          "metadata": {},
          "execution_count": 9
        }
      ],
      "source": [
        "df=df.drop(['cigsPerDay_ismissing','BPMeds_ismissing', 'totChol_ismissing','BMI_ismissing','heartRate_ismissing','glucose_ismissing','num_missing'], axis=1)\n",
        "df.head()"
      ]
    },
    {
      "cell_type": "code",
      "execution_count": 10,
      "metadata": {
        "colab": {
          "base_uri": "https://localhost:8080/"
        },
        "id": "bky9Nra1Us2G",
        "outputId": "3a4963d4-18c7-4685-a4df-083ce643a8ba"
      },
      "outputs": [
        {
          "output_type": "stream",
          "name": "stdout",
          "text": [
            "imputing missing values for: cigsPerDay\n",
            "imputing missing values for: BPMeds\n",
            "imputing missing values for: totChol\n",
            "imputing missing values for: BMI\n",
            "imputing missing values for: heartRate\n",
            "imputing missing values for: glucose\n"
          ]
        }
      ],
      "source": [
        "# impute the missing values and create the missing value indicator variables for each numeric column.\n",
        "df_numeric = df.select_dtypes(include=[np.number])\n",
        "numeric_cols = df_numeric.columns.values\n",
        "\n",
        "for col in numeric_cols:\n",
        "    missing = df[col].isnull()\n",
        "    num_missing = np.sum(missing)\n",
        "    \n",
        "    if num_missing > 0:  # only do the imputation for the columns that have missing values.\n",
        "        print('imputing missing values for: {}'.format(col))\n",
        "        med = df[col].median()\n",
        "        df[col] = df[col].fillna(med)"
      ]
    },
    {
      "cell_type": "markdown",
      "source": [
        "Se rellenan los valores faltantes de cada característica utilizando la mediana de cada característica"
      ],
      "metadata": {
        "id": "Pzqj1loH_oGI"
      }
    },
    {
      "cell_type": "code",
      "execution_count": 11,
      "metadata": {
        "colab": {
          "base_uri": "https://localhost:8080/"
        },
        "id": "FVQNCMhKYWsc",
        "outputId": "815a52d2-73c6-4db6-dd4a-8822cae97463"
      },
      "outputs": [
        {
          "output_type": "stream",
          "name": "stdout",
          "text": [
            "age - 0.0%\n",
            "sex - 0.0%\n",
            "is_smoking - 0.0%\n",
            "cigsPerDay - 0.0%\n",
            "BPMeds - 0.0%\n",
            "prevalentStroke - 0.0%\n",
            "prevalentHyp - 0.0%\n",
            "diabetes - 0.0%\n",
            "totChol - 0.0%\n",
            "sysBP - 0.0%\n",
            "diaBP - 0.0%\n",
            "BMI - 0.0%\n",
            "heartRate - 0.0%\n",
            "glucose - 0.0%\n",
            "TenYearCHD - 0.0%\n"
          ]
        }
      ],
      "source": [
        "# if it's a larger dataset and the visualization takes too long can do this.\n",
        "# % of missing.\n",
        "for col in df.columns:\n",
        "    pct_missing = np.mean(df[col].isnull())\n",
        "    print('{} - {}%'.format(col, pct_missing*100))"
      ]
    },
    {
      "cell_type": "markdown",
      "metadata": {
        "id": "8nqdpKOndsz7"
      },
      "source": [
        "## Datos atípicos (outliers)"
      ]
    },
    {
      "cell_type": "markdown",
      "source": [
        "Utilización de histograma y diagramas de cajas para detectar los outliers por característica"
      ],
      "metadata": {
        "id": "fJ-GTS0LATqJ"
      }
    },
    {
      "cell_type": "code",
      "execution_count": 13,
      "metadata": {
        "colab": {
          "base_uri": "https://localhost:8080/",
          "height": 500
        },
        "id": "0N--2TmRd9tT",
        "outputId": "09678667-26f4-4e56-e56c-3cbaf1b7e022"
      },
      "outputs": [
        {
          "output_type": "execute_result",
          "data": {
            "text/plain": [
              "<matplotlib.axes._subplots.AxesSubplot at 0x7f20c0fb1250>"
            ]
          },
          "metadata": {},
          "execution_count": 13
        },
        {
          "output_type": "display_data",
          "data": {
            "text/plain": [
              "<Figure size 864x576 with 1 Axes>"
            ],
            "image/png": "[encoded data removed]"
          },
          "metadata": {
            "needs_background": "light"
          }
        }
      ],
      "source": [
        "df['cigsPerDay'].hist(bins=20)"
      ]
    },
    {
      "cell_type": "code",
      "execution_count": 14,
      "metadata": {
        "colab": {
          "base_uri": "https://localhost:8080/",
          "height": 500
        },
        "id": "5x_N7MageFbj",
        "outputId": "dc08aa54-66a2-4588-ee45-363189fa07b6"
      },
      "outputs": [
        {
          "output_type": "execute_result",
          "data": {
            "text/plain": [
              "<matplotlib.axes._subplots.AxesSubplot at 0x7f20c0f62f50>"
            ]
          },
          "metadata": {},
          "execution_count": 14
        },
        {
          "output_type": "display_data",
          "data": {
            "text/plain": [
              "<Figure size 864x576 with 1 Axes>"
            ],
            "image/png": "[encoded data removed]"
          },
          "metadata": {
            "needs_background": "light"
          }
        }
      ],
      "source": [
        "df.boxplot(column=['cigsPerDay'])"
      ]
    },
    {
      "cell_type": "code",
      "execution_count": 15,
      "metadata": {
        "colab": {
          "base_uri": "https://localhost:8080/",
          "height": 500
        },
        "id": "a2tbTkZEtT3O",
        "outputId": "fea9071a-6d05-4d44-9246-89d354bc25e6"
      },
      "outputs": [
        {
          "output_type": "execute_result",
          "data": {
            "text/plain": [
              "<matplotlib.axes._subplots.AxesSubplot at 0x7f20d2624f50>"
            ]
          },
          "metadata": {},
          "execution_count": 15
        },
        {
          "output_type": "display_data",
          "data": {
            "text/plain": [
              "<Figure size 864x576 with 1 Axes>"
            ],
            "image/png": "[encoded data removed]"
          },
          "metadata": {
            "needs_background": "light"
          }
        }
      ],
      "source": [
        "df.boxplot(column=['diaBP'])"
      ]
    },
    {
      "cell_type": "code",
      "execution_count": 16,
      "metadata": {
        "colab": {
          "base_uri": "https://localhost:8080/",
          "height": 500
        },
        "id": "dAUYu3xatYte",
        "outputId": "7dcd10c4-6a2e-4767-85c2-b26a5ed386a5"
      },
      "outputs": [
        {
          "output_type": "execute_result",
          "data": {
            "text/plain": [
              "<matplotlib.axes._subplots.AxesSubplot at 0x7f20c0dcecd0>"
            ]
          },
          "metadata": {},
          "execution_count": 16
        },
        {
          "output_type": "display_data",
          "data": {
            "text/plain": [
              "<Figure size 864x576 with 1 Axes>"
            ],
            "image/png": "[encoded data removed]"
          },
          "metadata": {
            "needs_background": "light"
          }
        }
      ],
      "source": [
        "df.boxplot(column=['sysBP'])"
      ]
    },
    {
      "cell_type": "code",
      "execution_count": 17,
      "metadata": {
        "colab": {
          "base_uri": "https://localhost:8080/",
          "height": 500
        },
        "id": "ye7o65qgtkTn",
        "outputId": "823b1c7c-da66-40ad-8b02-969a62d7d8df"
      },
      "outputs": [
        {
          "output_type": "execute_result",
          "data": {
            "text/plain": [
              "<matplotlib.axes._subplots.AxesSubplot at 0x7f20c0d4ab90>"
            ]
          },
          "metadata": {},
          "execution_count": 17
        },
        {
          "output_type": "display_data",
          "data": {
            "text/plain": [
              "<Figure size 864x576 with 1 Axes>"
            ],
            "image/png": "[encoded data removed]"
          },
          "metadata": {
            "needs_background": "light"
          }
        }
      ],
      "source": [
        "df.boxplot(column=['totChol'])"
      ]
    },
    {
      "cell_type": "code",
      "execution_count": 18,
      "metadata": {
        "colab": {
          "base_uri": "https://localhost:8080/",
          "height": 500
        },
        "id": "669fbXmXtplB",
        "outputId": "8306f4cc-59aa-4588-f327-37757b133886"
      },
      "outputs": [
        {
          "output_type": "execute_result",
          "data": {
            "text/plain": [
              "<matplotlib.axes._subplots.AxesSubplot at 0x7f20c0d291d0>"
            ]
          },
          "metadata": {},
          "execution_count": 18
        },
        {
          "output_type": "display_data",
          "data": {
            "text/plain": [
              "<Figure size 864x576 with 1 Axes>"
            ],
            "image/png": "[encoded data removed]"
          },
          "metadata": {
            "needs_background": "light"
          }
        }
      ],
      "source": [
        "df.boxplot(column=['BMI'])"
      ]
    },
    {
      "cell_type": "code",
      "execution_count": 19,
      "metadata": {
        "colab": {
          "base_uri": "https://localhost:8080/",
          "height": 500
        },
        "id": "eypMvaVUuMig",
        "outputId": "158c9199-98c2-4541-d58d-4f6fec603ebe"
      },
      "outputs": [
        {
          "output_type": "execute_result",
          "data": {
            "text/plain": [
              "<matplotlib.axes._subplots.AxesSubplot at 0x7f20c0cc78d0>"
            ]
          },
          "metadata": {},
          "execution_count": 19
        },
        {
          "output_type": "display_data",
          "data": {
            "text/plain": [
              "<Figure size 864x576 with 1 Axes>"
            ],
            "image/png": "[encoded data removed]"
          },
          "metadata": {
            "needs_background": "light"
          }
        }
      ],
      "source": [
        "df.boxplot(column=['heartRate'])"
      ]
    },
    {
      "cell_type": "code",
      "execution_count": 20,
      "metadata": {
        "colab": {
          "base_uri": "https://localhost:8080/",
          "height": 500
        },
        "id": "-bwyPglGuRSO",
        "outputId": "86e47edb-dbea-42d9-dbbb-ea3f76d87b65"
      },
      "outputs": [
        {
          "output_type": "execute_result",
          "data": {
            "text/plain": [
              "<matplotlib.axes._subplots.AxesSubplot at 0x7f20c0c2e390>"
            ]
          },
          "metadata": {},
          "execution_count": 20
        },
        {
          "output_type": "display_data",
          "data": {
            "text/plain": [
              "<Figure size 864x576 with 1 Axes>"
            ],
            "image/png": "[encoded data removed]"
          },
          "metadata": {
            "needs_background": "light"
          }
        }
      ],
      "source": [
        "df.boxplot(column=['glucose'])"
      ]
    },
    {
      "cell_type": "code",
      "execution_count": 21,
      "metadata": {
        "colab": {
          "base_uri": "https://localhost:8080/",
          "height": 500
        },
        "id": "7SMGX9kS7iGz",
        "outputId": "30b9c41d-1c97-4359-e67f-0d10a2f19ab0"
      },
      "outputs": [
        {
          "output_type": "execute_result",
          "data": {
            "text/plain": [
              "<matplotlib.axes._subplots.AxesSubplot at 0x7f20c0b83b50>"
            ]
          },
          "metadata": {},
          "execution_count": 21
        },
        {
          "output_type": "display_data",
          "data": {
            "text/plain": [
              "<Figure size 864x576 with 1 Axes>"
            ],
            "image/png": "[encoded data removed]"
          },
          "metadata": {
            "needs_background": "light"
          }
        }
      ],
      "source": [
        "df['age'].hist(bins=100)"
      ]
    },
    {
      "cell_type": "markdown",
      "source": [
        "Para las variables numéricas binarias se utilizan gráficos de columnas para detectar sus valores atípicos"
      ],
      "metadata": {
        "id": "MTjUCSJ1AbKY"
      }
    },
    {
      "cell_type": "code",
      "execution_count": 23,
      "metadata": {
        "colab": {
          "base_uri": "https://localhost:8080/",
          "height": 506
        },
        "id": "saKGAPW58BXd",
        "outputId": "6d784598-0100-426b-eb89-455b6c7793d1"
      },
      "outputs": [
        {
          "output_type": "execute_result",
          "data": {
            "text/plain": [
              "<matplotlib.axes._subplots.AxesSubplot at 0x7f6b4190cdd0>"
            ]
          },
          "metadata": {},
          "execution_count": 23
        },
        {
          "output_type": "display_data",
          "data": {
            "text/plain": [
              "<Figure size 864x576 with 1 Axes>"
            ],
            "image/png": "[encoded data removed]"
          },
          "metadata": {
            "needs_background": "light"
          }
        }
      ],
      "source": [
        "df['BPMeds'].value_counts().plot.bar()"
      ]
    },
    {
      "cell_type": "code",
      "execution_count": 24,
      "metadata": {
        "colab": {
          "base_uri": "https://localhost:8080/",
          "height": 496
        },
        "id": "N3OcZ25l8EdQ",
        "outputId": "8a73be3b-28eb-4add-c0f8-8186a0e6b7e0"
      },
      "outputs": [
        {
          "output_type": "execute_result",
          "data": {
            "text/plain": [
              "<matplotlib.axes._subplots.AxesSubplot at 0x7f6b4187f3d0>"
            ]
          },
          "metadata": {},
          "execution_count": 24
        },
        {
          "output_type": "display_data",
          "data": {
            "text/plain": [
              "<Figure size 864x576 with 1 Axes>"
            ],
            "image/png": "[encoded data removed]"
          },
          "metadata": {
            "needs_background": "light"
          }
        }
      ],
      "source": [
        "df['prevalentStroke'].value_counts().plot.bar()"
      ]
    },
    {
      "cell_type": "code",
      "execution_count": 25,
      "metadata": {
        "colab": {
          "base_uri": "https://localhost:8080/",
          "height": 496
        },
        "id": "3t6ixkTq8Kfk",
        "outputId": "c81a55f3-5235-464c-bd31-b974f8d11c83"
      },
      "outputs": [
        {
          "output_type": "execute_result",
          "data": {
            "text/plain": [
              "<matplotlib.axes._subplots.AxesSubplot at 0x7f6b41378510>"
            ]
          },
          "metadata": {},
          "execution_count": 25
        },
        {
          "output_type": "display_data",
          "data": {
            "text/plain": [
              "<Figure size 864x576 with 1 Axes>"
            ],
            "image/png": "[encoded data removed]"
          },
          "metadata": {
            "needs_background": "light"
          }
        }
      ],
      "source": [
        "df['prevalentHyp'].value_counts().plot.bar()"
      ]
    },
    {
      "cell_type": "code",
      "execution_count": 26,
      "metadata": {
        "colab": {
          "base_uri": "https://localhost:8080/",
          "height": 496
        },
        "id": "46rrfRin8Pt6",
        "outputId": "5bcd764d-b4f1-4c3e-861a-653a8f84b16d"
      },
      "outputs": [
        {
          "output_type": "execute_result",
          "data": {
            "text/plain": [
              "<matplotlib.axes._subplots.AxesSubplot at 0x7f6b41317850>"
            ]
          },
          "metadata": {},
          "execution_count": 26
        },
        {
          "output_type": "display_data",
          "data": {
            "text/plain": [
              "<Figure size 864x576 with 1 Axes>"
            ],
            "image/png": "[encoded data removed]"
          },
          "metadata": {
            "needs_background": "light"
          }
        }
      ],
      "source": [
        "df['diabetes'].value_counts().plot.bar()"
      ]
    },
    {
      "cell_type": "code",
      "execution_count": 27,
      "metadata": {
        "colab": {
          "base_uri": "https://localhost:8080/",
          "height": 498
        },
        "id": "s6-jG1TvBwpP",
        "outputId": "e1d12feb-05c2-419a-fabe-ae7216df46fa"
      },
      "outputs": [
        {
          "output_type": "execute_result",
          "data": {
            "text/plain": [
              "<matplotlib.axes._subplots.AxesSubplot at 0x7f6b412d8950>"
            ]
          },
          "metadata": {},
          "execution_count": 27
        },
        {
          "output_type": "display_data",
          "data": {
            "text/plain": [
              "<Figure size 864x576 with 1 Axes>"
            ],
            "image/png": "[encoded data removed]"
          },
          "metadata": {
            "needs_background": "light"
          }
        }
      ],
      "source": [
        "df['sex'].value_counts().plot.bar()"
      ]
    },
    {
      "cell_type": "code",
      "execution_count": 28,
      "metadata": {
        "colab": {
          "base_uri": "https://localhost:8080/",
          "height": 508
        },
        "id": "RmWfTnHCBzUa",
        "outputId": "5d80a7d6-b936-4fb2-8c67-6957c4b88767"
      },
      "outputs": [
        {
          "output_type": "execute_result",
          "data": {
            "text/plain": [
              "<matplotlib.axes._subplots.AxesSubplot at 0x7f6b4120f810>"
            ]
          },
          "metadata": {},
          "execution_count": 28
        },
        {
          "output_type": "display_data",
          "data": {
            "text/plain": [
              "<Figure size 864x576 with 1 Axes>"
            ],
            "image/png": "[encoded data removed]"
          },
          "metadata": {
            "needs_background": "light"
          }
        }
      ],
      "source": [
        "df['is_smoking'].value_counts().plot.bar()"
      ]
    },
    {
      "cell_type": "code",
      "execution_count": 22,
      "metadata": {
        "colab": {
          "base_uri": "https://localhost:8080/",
          "height": 869
        },
        "id": "fugnzSs5qVdl",
        "outputId": "47faf24b-3795-4cc2-f8a2-9df22303dfe6"
      },
      "outputs": [
        {
          "output_type": "display_data",
          "data": {
            "text/plain": [
              "<Figure size 1080x864 with 4 Axes>"
            ],
            "image/png": "[encoded data removed]"
          },
          "metadata": {}
        }
      ],
      "source": [
        "import seaborn as sns\n",
        "import matplotlib.pyplot as plt\n",
        "rows = 2\n",
        "cols = 2\n",
        "sns.set(font_scale = 1)\n",
        "sns.set_style(\"white\")\n",
        "fig, axes = plt.subplots(figsize = [15,12],nrows=rows, ncols=cols)\n",
        "for i, column in enumerate(['BPMeds','prevalentStroke','prevalentHyp']):\n",
        "  sns.histplot(df[column],ax=axes[i//cols,i%cols], kde=True)\n",
        "  sns.despine()\n",
        "plt.tight_layout()"
      ]
    },
    {
      "cell_type": "markdown",
      "source": [
        "## Datos innecesarios"
      ],
      "metadata": {
        "id": "7w9QArmPAm_o"
      }
    },
    {
      "cell_type": "markdown",
      "source": [
        "###Datos repetitivos"
      ],
      "metadata": {
        "id": "ZxvvhTqrAy2s"
      }
    },
    {
      "cell_type": "code",
      "execution_count": 24,
      "metadata": {
        "colab": {
          "base_uri": "https://localhost:8080/"
        },
        "id": "12mh4FS9JGwO",
        "outputId": "0d907657-02e4-4f85-a92b-d22498737ed1"
      },
      "outputs": [
        {
          "output_type": "stream",
          "name": "stdout",
          "text": [
            "BPMeds: 97.05015%\n",
            "0.0    3290\n",
            "1.0     100\n",
            "Name: BPMeds, dtype: int64\n",
            "\n",
            "prevalentStroke: 99.35103%\n",
            "0    3368\n",
            "1      22\n",
            "Name: prevalentStroke, dtype: int64\n",
            "\n",
            "diabetes: 97.43363%\n",
            "0    3303\n",
            "1      87\n",
            "Name: diabetes, dtype: int64\n",
            "\n"
          ]
        }
      ],
      "source": [
        "num_rows = len(df.index)\n",
        "low_information_cols = [] #\n",
        "\n",
        "for col in df.columns:\n",
        "    cnts = df[col].value_counts(dropna=False)\n",
        "    top_pct = (cnts/num_rows).iloc[0]\n",
        "    \n",
        "    if top_pct > 0.95:\n",
        "        low_information_cols.append(col)\n",
        "        print('{0}: {1:.5f}%'.format(col, top_pct*100))\n",
        "        print(cnts)\n",
        "        print()"
      ]
    },
    {
      "cell_type": "markdown",
      "source": [
        "## Transformación de variables categóricas a variables numéricas binarias"
      ],
      "metadata": {
        "id": "3tGkDz5hA5ZB"
      }
    },
    {
      "cell_type": "code",
      "execution_count": 35,
      "metadata": {
        "colab": {
          "base_uri": "https://localhost:8080/"
        },
        "id": "fDbsbK8ghZX0",
        "outputId": "106e6c2c-000c-4d09-b7e8-faff0509f0ae"
      },
      "outputs": [
        {
          "output_type": "execute_result",
          "data": {
            "text/plain": [
              "0       YES\n",
              "1        NO\n",
              "2       YES\n",
              "3       YES\n",
              "4       YES\n",
              "       ... \n",
              "3385     NO\n",
              "3386     NO\n",
              "3387    YES\n",
              "3388     NO\n",
              "3389     NO\n",
              "Name: is_smoking, Length: 3390, dtype: object"
            ]
          },
          "metadata": {},
          "execution_count": 35
        }
      ],
      "source": [
        "df['is_smoking']"
      ]
    },
    {
      "cell_type": "code",
      "execution_count": 25,
      "metadata": {
        "id": "NP4OZcJGhbTb"
      },
      "outputs": [],
      "source": [
        "df['is_smoking']=(df['is_smoking']=='YES').astype(int)"
      ]
    },
    {
      "cell_type": "code",
      "execution_count": 37,
      "metadata": {
        "colab": {
          "base_uri": "https://localhost:8080/"
        },
        "id": "PNCyje8niL9j",
        "outputId": "7f1d41fa-784a-452f-f169-44f68be142b2"
      },
      "outputs": [
        {
          "output_type": "execute_result",
          "data": {
            "text/plain": [
              "0       1\n",
              "1       0\n",
              "2       1\n",
              "3       1\n",
              "4       1\n",
              "       ..\n",
              "3385    0\n",
              "3386    0\n",
              "3387    1\n",
              "3388    0\n",
              "3389    0\n",
              "Name: is_smoking, Length: 3390, dtype: int64"
            ]
          },
          "metadata": {},
          "execution_count": 37
        }
      ],
      "source": [
        "df['is_smoking']"
      ]
    },
    {
      "cell_type": "code",
      "execution_count": 26,
      "metadata": {
        "id": "RRJgiysGiUsJ"
      },
      "outputs": [],
      "source": [
        "df['sex']=(df['sex']=='M').astype(int)"
      ]
    },
    {
      "cell_type": "markdown",
      "source": [
        "##Dataset limpio"
      ],
      "metadata": {
        "id": "zayzBXfrA99J"
      }
    },
    {
      "cell_type": "code",
      "execution_count": 39,
      "metadata": {
        "colab": {
          "base_uri": "https://localhost:8080/",
          "height": 206
        },
        "id": "-A0BL0GPidtd",
        "outputId": "a5a414bf-1c07-48c3-d383-e75e43ed03cc"
      },
      "outputs": [
        {
          "output_type": "execute_result",
          "data": {
            "text/plain": [
              "   age  sex  is_smoking  cigsPerDay  BPMeds  prevalentStroke  prevalentHyp  \\\n",
              "0   64    0           1         3.0     0.0                0             0   \n",
              "1   36    1           0         0.0     0.0                0             1   \n",
              "2   46    0           1        10.0     0.0                0             0   \n",
              "3   50    1           1        20.0     0.0                0             1   \n",
              "4   64    0           1        30.0     0.0                0             0   \n",
              "\n",
              "   diabetes  totChol  sysBP  diaBP    BMI  heartRate  glucose  TenYearCHD  \n",
              "0         0    221.0  148.0   85.0  25.38       90.0     80.0           1  \n",
              "1         0    212.0  168.0   98.0  29.77       72.0     75.0           0  \n",
              "2         0    250.0  116.0   71.0  20.35       88.0     94.0           0  \n",
              "3         0    233.0  158.0   88.0  28.26       68.0     94.0           1  \n",
              "4         0    241.0  136.5   85.0  26.42       70.0     77.0           0  "
            ],
            "text/html": [
              "\n",
              "  <div id=\"df-ef8132c1-2c71-4019-84e8-b465ebf4b11b\">\n",
              "    <div class=\"colab-df-container\">\n",
              "      <div>\n",
              "<style scoped>\n",
              "    .dataframe tbody tr th:only-of-type {\n",
              "        vertical-align: middle;\n",
              "    }\n",
              "\n",
              "    .dataframe tbody tr th {\n",
              "        vertical-align: top;\n",
              "    }\n",
              "\n",
              "    .dataframe thead th {\n",
              "        text-align: right;\n",
              "    }\n",
              "</style>\n",
              "<table border=\"1\" class=\"dataframe\">\n",
              "  <thead>\n",
              "    <tr style=\"text-align: right;\">\n",
              "      <th></th>\n",
              "      <th>age</th>\n",
              "      <th>sex</th>\n",
              "      <th>is_smoking</th>\n",
              "      <th>cigsPerDay</th>\n",
              "      <th>BPMeds</th>\n",
              "      <th>prevalentStroke</th>\n",
              "      <th>prevalentHyp</th>\n",
              "      <th>diabetes</th>\n",
              "      <th>totChol</th>\n",
              "      <th>sysBP</th>\n",
              "      <th>diaBP</th>\n",
              "      <th>BMI</th>\n",
              "      <th>heartRate</th>\n",
              "      <th>glucose</th>\n",
              "      <th>TenYearCHD</th>\n",
              "    </tr>\n",
              "  </thead>\n",
              "  <tbody>\n",
              "    <tr>\n",
              "      <th>0</th>\n",
              "      <td>64</td>\n",
              "      <td>0</td>\n",
              "      <td>1</td>\n",
              "      <td>3.0</td>\n",
              "      <td>0.0</td>\n",
              "      <td>0</td>\n",
              "      <td>0</td>\n",
              "      <td>0</td>\n",
              "      <td>221.0</td>\n",
              "      <td>148.0</td>\n",
              "      <td>85.0</td>\n",
              "      <td>25.38</td>\n",
              "      <td>90.0</td>\n",
              "      <td>80.0</td>\n",
              "      <td>1</td>\n",
              "    </tr>\n",
              "    <tr>\n",
              "      <th>1</th>\n",
              "      <td>36</td>\n",
              "      <td>1</td>\n",
              "      <td>0</td>\n",
              "      <td>0.0</td>\n",
              "      <td>0.0</td>\n",
              "      <td>0</td>\n",
              "      <td>1</td>\n",
              "      <td>0</td>\n",
              "      <td>212.0</td>\n",
              "      <td>168.0</td>\n",
              "      <td>98.0</td>\n",
              "      <td>29.77</td>\n",
              "      <td>72.0</td>\n",
              "      <td>75.0</td>\n",
              "      <td>0</td>\n",
              "    </tr>\n",
              "    <tr>\n",
              "      <th>2</th>\n",
              "      <td>46</td>\n",
              "      <td>0</td>\n",
              "      <td>1</td>\n",
              "      <td>10.0</td>\n",
              "      <td>0.0</td>\n",
              "      <td>0</td>\n",
              "      <td>0</td>\n",
              "      <td>0</td>\n",
              "      <td>250.0</td>\n",
              "      <td>116.0</td>\n",
              "      <td>71.0</td>\n",
              "      <td>20.35</td>\n",
              "      <td>88.0</td>\n",
              "      <td>94.0</td>\n",
              "      <td>0</td>\n",
              "    </tr>\n",
              "    <tr>\n",
              "      <th>3</th>\n",
              "      <td>50</td>\n",
              "      <td>1</td>\n",
              "      <td>1</td>\n",
              "      <td>20.0</td>\n",
              "      <td>0.0</td>\n",
              "      <td>0</td>\n",
              "      <td>1</td>\n",
              "      <td>0</td>\n",
              "      <td>233.0</td>\n",
              "      <td>158.0</td>\n",
              "      <td>88.0</td>\n",
              "      <td>28.26</td>\n",
              "      <td>68.0</td>\n",
              "      <td>94.0</td>\n",
              "      <td>1</td>\n",
              "    </tr>\n",
              "    <tr>\n",
              "      <th>4</th>\n",
              "      <td>64</td>\n",
              "      <td>0</td>\n",
              "      <td>1</td>\n",
              "      <td>30.0</td>\n",
              "      <td>0.0</td>\n",
              "      <td>0</td>\n",
              "      <td>0</td>\n",
              "      <td>0</td>\n",
              "      <td>241.0</td>\n",
              "      <td>136.5</td>\n",
              "      <td>85.0</td>\n",
              "      <td>26.42</td>\n",
              "      <td>70.0</td>\n",
              "      <td>77.0</td>\n",
              "      <td>0</td>\n",
              "    </tr>\n",
              "  </tbody>\n",
              "</table>\n",
              "</div>\n",
              "      <button class=\"colab-df-convert\" onclick=\"convertToInteractive('df-ef8132c1-2c71-4019-84e8-b465ebf4b11b')\"\n",
              "              title=\"Convert this dataframe to an interactive table.\"\n",
              "              style=\"display:none;\">\n",
              "        \n",
              "  <svg xmlns=\"http://www.w3.org/2000/svg\" height=\"24px\"viewBox=\"0 0 24 24\"\n",
              "       width=\"24px\">\n",
              "    <path d=\"M0 0h24v24H0V0z\" fill=\"none\"/>\n",
              "    <path d=\"M18.56 5.44l.94 2.06.94-2.06 2.06-.94-2.06-.94-.94-2.06-.94 2.06-2.06.94zm-11 1L8.5 8.5l.94-2.06 2.06-.94-2.06-.94L8.5 2.5l-.94 2.06-2.06.94zm10 10l.94 2.06.94-2.06 2.06-.94-2.06-.94-.94-2.06-.94 2.06-2.06.94z\"/><path d=\"M17.41 7.96l-1.37-1.37c-.4-.4-.92-.59-1.43-.59-.52 0-1.04.2-1.43.59L10.3 9.45l-7.72 7.72c-.78.78-.78 2.05 0 2.83L4 21.41c.39.39.9.59 1.41.59.51 0 1.02-.2 1.41-.59l7.78-7.78 2.81-2.81c.8-.78.8-2.07 0-2.86zM5.41 20L4 18.59l7.72-7.72 1.47 1.35L5.41 20z\"/>\n",
              "  </svg>\n",
              "      </button>\n",
              "      \n",
              "  <style>\n",
              "    .colab-df-container {\n",
              "      display:flex;\n",
              "      flex-wrap:wrap;\n",
              "      gap: 12px;\n",
              "    }\n",
              "\n",
              "    .colab-df-convert {\n",
              "      background-color: #E8F0FE;\n",
              "      border: none;\n",
              "      border-radius: 50%;\n",
              "      cursor: pointer;\n",
              "      display: none;\n",
              "      fill: #1967D2;\n",
              "      height: 32px;\n",
              "      padding: 0 0 0 0;\n",
              "      width: 32px;\n",
              "    }\n",
              "\n",
              "    .colab-df-convert:hover {\n",
              "      background-color: #E2EBFA;\n",
              "      box-shadow: 0px 1px 2px rgba(60, 64, 67, 0.3), 0px 1px 3px 1px rgba(60, 64, 67, 0.15);\n",
              "      fill: #174EA6;\n",
              "    }\n",
              "\n",
              "    [theme=dark] .colab-df-convert {\n",
              "      background-color: #3B4455;\n",
              "      fill: #D2E3FC;\n",
              "    }\n",
              "\n",
              "    [theme=dark] .colab-df-convert:hover {\n",
              "      background-color: #434B5C;\n",
              "      box-shadow: 0px 1px 3px 1px rgba(0, 0, 0, 0.15);\n",
              "      filter: drop-shadow(0px 1px 2px rgba(0, 0, 0, 0.3));\n",
              "      fill: #FFFFFF;\n",
              "    }\n",
              "  </style>\n",
              "\n",
              "      <script>\n",
              "        const buttonEl =\n",
              "          document.querySelector('#df-ef8132c1-2c71-4019-84e8-b465ebf4b11b button.colab-df-convert');\n",
              "        buttonEl.style.display =\n",
              "          google.colab.kernel.accessAllowed ? 'block' : 'none';\n",
              "\n",
              "        async function convertToInteractive(key) {\n",
              "          const element = document.querySelector('#df-ef8132c1-2c71-4019-84e8-b465ebf4b11b');\n",
              "          const dataTable =\n",
              "            await google.colab.kernel.invokeFunction('convertToInteractive',\n",
              "                                                     [key], {});\n",
              "          if (!dataTable) return;\n",
              "\n",
              "          const docLinkHtml = 'Like what you see? Visit the ' +\n",
              "            '<a target=\"_blank\" href=https://colab.research.google.com/notebooks/data_table.ipynb>data table notebook</a>'\n",
              "            + ' to learn more about interactive tables.';\n",
              "          element.innerHTML = '';\n",
              "          dataTable['output_type'] = 'display_data';\n",
              "          await google.colab.output.renderOutput(dataTable, element);\n",
              "          const docLink = document.createElement('div');\n",
              "          docLink.innerHTML = docLinkHtml;\n",
              "          element.appendChild(docLink);\n",
              "        }\n",
              "      </script>\n",
              "    </div>\n",
              "  </div>\n",
              "  "
            ]
          },
          "metadata": {},
          "execution_count": 39
        }
      ],
      "source": [
        "df.head()"
      ]
    },
    {
      "cell_type": "code",
      "source": [
        "df['TenYearCHD'].value_counts()"
      ],
      "metadata": {
        "colab": {
          "base_uri": "https://localhost:8080/"
        },
        "id": "rmZKcLaCp0lY",
        "outputId": "8a49a660-084d-4fed-b837-7a9fbfbbd345"
      },
      "execution_count": 72,
      "outputs": [
        {
          "output_type": "execute_result",
          "data": {
            "text/plain": [
              "0    2879\n",
              "1     511\n",
              "Name: TenYearCHD, dtype: int64"
            ]
          },
          "metadata": {},
          "execution_count": 72
        }
      ]
    },
    {
      "cell_type": "markdown",
      "source": [
        "## MODELIZACIÓN"
      ],
      "metadata": {
        "id": "1CtOxoWzBDoY"
      }
    },
    {
      "cell_type": "markdown",
      "source": [
        "Importación de librerías necesarias"
      ],
      "metadata": {
        "id": "7Ss3P21zBGAL"
      }
    },
    {
      "cell_type": "code",
      "source": [
        "import pandas as pd\n",
        "import numpy as np\n",
        "import statsmodels.api as sm\n",
        "import scipy.stats as st\n",
        "import matplotlib.pyplot as plt\n",
        "import seaborn as sn\n",
        "from sklearn.metrics import confusion_matrix\n",
        "import matplotlib.mlab as mlab\n",
        "%matplotlib inline"
      ],
      "metadata": {
        "id": "cFBDdySYfgTX"
      },
      "execution_count": 27,
      "outputs": []
    },
    {
      "cell_type": "markdown",
      "source": [
        "Adición de constante al dataset inicial necesaria para no eliminar el coeficiente independiente (B0)."
      ],
      "metadata": {
        "id": "rr3ZEzb5BLNq"
      }
    },
    {
      "cell_type": "code",
      "source": [
        "from statsmodels.tools import add_constant as add_constant\n",
        "heart_df_constant = add_constant(df)\n",
        "heart_df_constant.head()"
      ],
      "metadata": {
        "colab": {
          "base_uri": "https://localhost:8080/",
          "height": 305
        },
        "id": "gs1ldjlG1B3n",
        "outputId": "f8b2920d-ed53-4830-b76d-b7e3081023f3"
      },
      "execution_count": 28,
      "outputs": [
        {
          "output_type": "stream",
          "name": "stderr",
          "text": [
            "/usr/local/lib/python3.7/dist-packages/statsmodels/tsa/tsatools.py:142: FutureWarning: In a future version of pandas all arguments of concat except for the argument 'objs' will be keyword-only\n",
            "  x = pd.concat(x[::order], 1)\n"
          ]
        },
        {
          "output_type": "execute_result",
          "data": {
            "text/plain": [
              "   const  age  sex  is_smoking  cigsPerDay  BPMeds  prevalentStroke  \\\n",
              "0    1.0   64    0           1         3.0     0.0                0   \n",
              "1    1.0   36    1           0         0.0     0.0                0   \n",
              "2    1.0   46    0           1        10.0     0.0                0   \n",
              "3    1.0   50    1           1        20.0     0.0                0   \n",
              "4    1.0   64    0           1        30.0     0.0                0   \n",
              "\n",
              "   prevalentHyp  diabetes  totChol  sysBP  diaBP    BMI  heartRate  glucose  \\\n",
              "0             0         0    221.0  148.0   85.0  25.38       90.0     80.0   \n",
              "1             1         0    212.0  168.0   98.0  29.77       72.0     75.0   \n",
              "2             0         0    250.0  116.0   71.0  20.35       88.0     94.0   \n",
              "3             1         0    233.0  158.0   88.0  28.26       68.0     94.0   \n",
              "4             0         0    241.0  136.5   85.0  26.42       70.0     77.0   \n",
              "\n",
              "   TenYearCHD  \n",
              "0           1  \n",
              "1           0  \n",
              "2           0  \n",
              "3           1  \n",
              "4           0  "
            ],
            "text/html": [
              "\n",
              "  <div id=\"df-2a534e64-4ffd-4256-a7ff-2f6fcada24cf\">\n",
              "    <div class=\"colab-df-container\">\n",
              "      <div>\n",
              "<style scoped>\n",
              "    .dataframe tbody tr th:only-of-type {\n",
              "        vertical-align: middle;\n",
              "    }\n",
              "\n",
              "    .dataframe tbody tr th {\n",
              "        vertical-align: top;\n",
              "    }\n",
              "\n",
              "    .dataframe thead th {\n",
              "        text-align: right;\n",
              "    }\n",
              "</style>\n",
              "<table border=\"1\" class=\"dataframe\">\n",
              "  <thead>\n",
              "    <tr style=\"text-align: right;\">\n",
              "      <th></th>\n",
              "      <th>const</th>\n",
              "      <th>age</th>\n",
              "      <th>sex</th>\n",
              "      <th>is_smoking</th>\n",
              "      <th>cigsPerDay</th>\n",
              "      <th>BPMeds</th>\n",
              "      <th>prevalentStroke</th>\n",
              "      <th>prevalentHyp</th>\n",
              "      <th>diabetes</th>\n",
              "      <th>totChol</th>\n",
              "      <th>sysBP</th>\n",
              "      <th>diaBP</th>\n",
              "      <th>BMI</th>\n",
              "      <th>heartRate</th>\n",
              "      <th>glucose</th>\n",
              "      <th>TenYearCHD</th>\n",
              "    </tr>\n",
              "  </thead>\n",
              "  <tbody>\n",
              "    <tr>\n",
              "      <th>0</th>\n",
              "      <td>1.0</td>\n",
              "      <td>64</td>\n",
              "      <td>0</td>\n",
              "      <td>1</td>\n",
              "      <td>3.0</td>\n",
              "      <td>0.0</td>\n",
              "      <td>0</td>\n",
              "      <td>0</td>\n",
              "      <td>0</td>\n",
              "      <td>221.0</td>\n",
              "      <td>148.0</td>\n",
              "      <td>85.0</td>\n",
              "      <td>25.38</td>\n",
              "      <td>90.0</td>\n",
              "      <td>80.0</td>\n",
              "      <td>1</td>\n",
              "    </tr>\n",
              "    <tr>\n",
              "      <th>1</th>\n",
              "      <td>1.0</td>\n",
              "      <td>36</td>\n",
              "      <td>1</td>\n",
              "      <td>0</td>\n",
              "      <td>0.0</td>\n",
              "      <td>0.0</td>\n",
              "      <td>0</td>\n",
              "      <td>1</td>\n",
              "      <td>0</td>\n",
              "      <td>212.0</td>\n",
              "      <td>168.0</td>\n",
              "      <td>98.0</td>\n",
              "      <td>29.77</td>\n",
              "      <td>72.0</td>\n",
              "      <td>75.0</td>\n",
              "      <td>0</td>\n",
              "    </tr>\n",
              "    <tr>\n",
              "      <th>2</th>\n",
              "      <td>1.0</td>\n",
              "      <td>46</td>\n",
              "      <td>0</td>\n",
              "      <td>1</td>\n",
              "      <td>10.0</td>\n",
              "      <td>0.0</td>\n",
              "      <td>0</td>\n",
              "      <td>0</td>\n",
              "      <td>0</td>\n",
              "      <td>250.0</td>\n",
              "      <td>116.0</td>\n",
              "      <td>71.0</td>\n",
              "      <td>20.35</td>\n",
              "      <td>88.0</td>\n",
              "      <td>94.0</td>\n",
              "      <td>0</td>\n",
              "    </tr>\n",
              "    <tr>\n",
              "      <th>3</th>\n",
              "      <td>1.0</td>\n",
              "      <td>50</td>\n",
              "      <td>1</td>\n",
              "      <td>1</td>\n",
              "      <td>20.0</td>\n",
              "      <td>0.0</td>\n",
              "      <td>0</td>\n",
              "      <td>1</td>\n",
              "      <td>0</td>\n",
              "      <td>233.0</td>\n",
              "      <td>158.0</td>\n",
              "      <td>88.0</td>\n",
              "      <td>28.26</td>\n",
              "      <td>68.0</td>\n",
              "      <td>94.0</td>\n",
              "      <td>1</td>\n",
              "    </tr>\n",
              "    <tr>\n",
              "      <th>4</th>\n",
              "      <td>1.0</td>\n",
              "      <td>64</td>\n",
              "      <td>0</td>\n",
              "      <td>1</td>\n",
              "      <td>30.0</td>\n",
              "      <td>0.0</td>\n",
              "      <td>0</td>\n",
              "      <td>0</td>\n",
              "      <td>0</td>\n",
              "      <td>241.0</td>\n",
              "      <td>136.5</td>\n",
              "      <td>85.0</td>\n",
              "      <td>26.42</td>\n",
              "      <td>70.0</td>\n",
              "      <td>77.0</td>\n",
              "      <td>0</td>\n",
              "    </tr>\n",
              "  </tbody>\n",
              "</table>\n",
              "</div>\n",
              "      <button class=\"colab-df-convert\" onclick=\"convertToInteractive('df-2a534e64-4ffd-4256-a7ff-2f6fcada24cf')\"\n",
              "              title=\"Convert this dataframe to an interactive table.\"\n",
              "              style=\"display:none;\">\n",
              "        \n",
              "  <svg xmlns=\"http://www.w3.org/2000/svg\" height=\"24px\"viewBox=\"0 0 24 24\"\n",
              "       width=\"24px\">\n",
              "    <path d=\"M0 0h24v24H0V0z\" fill=\"none\"/>\n",
              "    <path d=\"M18.56 5.44l.94 2.06.94-2.06 2.06-.94-2.06-.94-.94-2.06-.94 2.06-2.06.94zm-11 1L8.5 8.5l.94-2.06 2.06-.94-2.06-.94L8.5 2.5l-.94 2.06-2.06.94zm10 10l.94 2.06.94-2.06 2.06-.94-2.06-.94-.94-2.06-.94 2.06-2.06.94z\"/><path d=\"M17.41 7.96l-1.37-1.37c-.4-.4-.92-.59-1.43-.59-.52 0-1.04.2-1.43.59L10.3 9.45l-7.72 7.72c-.78.78-.78 2.05 0 2.83L4 21.41c.39.39.9.59 1.41.59.51 0 1.02-.2 1.41-.59l7.78-7.78 2.81-2.81c.8-.78.8-2.07 0-2.86zM5.41 20L4 18.59l7.72-7.72 1.47 1.35L5.41 20z\"/>\n",
              "  </svg>\n",
              "      </button>\n",
              "      \n",
              "  <style>\n",
              "    .colab-df-container {\n",
              "      display:flex;\n",
              "      flex-wrap:wrap;\n",
              "      gap: 12px;\n",
              "    }\n",
              "\n",
              "    .colab-df-convert {\n",
              "      background-color: #E8F0FE;\n",
              "      border: none;\n",
              "      border-radius: 50%;\n",
              "      cursor: pointer;\n",
              "      display: none;\n",
              "      fill: #1967D2;\n",
              "      height: 32px;\n",
              "      padding: 0 0 0 0;\n",
              "      width: 32px;\n",
              "    }\n",
              "\n",
              "    .colab-df-convert:hover {\n",
              "      background-color: #E2EBFA;\n",
              "      box-shadow: 0px 1px 2px rgba(60, 64, 67, 0.3), 0px 1px 3px 1px rgba(60, 64, 67, 0.15);\n",
              "      fill: #174EA6;\n",
              "    }\n",
              "\n",
              "    [theme=dark] .colab-df-convert {\n",
              "      background-color: #3B4455;\n",
              "      fill: #D2E3FC;\n",
              "    }\n",
              "\n",
              "    [theme=dark] .colab-df-convert:hover {\n",
              "      background-color: #434B5C;\n",
              "      box-shadow: 0px 1px 3px 1px rgba(0, 0, 0, 0.15);\n",
              "      filter: drop-shadow(0px 1px 2px rgba(0, 0, 0, 0.3));\n",
              "      fill: #FFFFFF;\n",
              "    }\n",
              "  </style>\n",
              "\n",
              "      <script>\n",
              "        const buttonEl =\n",
              "          document.querySelector('#df-2a534e64-4ffd-4256-a7ff-2f6fcada24cf button.colab-df-convert');\n",
              "        buttonEl.style.display =\n",
              "          google.colab.kernel.accessAllowed ? 'block' : 'none';\n",
              "\n",
              "        async function convertToInteractive(key) {\n",
              "          const element = document.querySelector('#df-2a534e64-4ffd-4256-a7ff-2f6fcada24cf');\n",
              "          const dataTable =\n",
              "            await google.colab.kernel.invokeFunction('convertToInteractive',\n",
              "                                                     [key], {});\n",
              "          if (!dataTable) return;\n",
              "\n",
              "          const docLinkHtml = 'Like what you see? Visit the ' +\n",
              "            '<a target=\"_blank\" href=https://colab.research.google.com/notebooks/data_table.ipynb>data table notebook</a>'\n",
              "            + ' to learn more about interactive tables.';\n",
              "          element.innerHTML = '';\n",
              "          dataTable['output_type'] = 'display_data';\n",
              "          await google.colab.output.renderOutput(dataTable, element);\n",
              "          const docLink = document.createElement('div');\n",
              "          docLink.innerHTML = docLinkHtml;\n",
              "          element.appendChild(docLink);\n",
              "        }\n",
              "      </script>\n",
              "    </div>\n",
              "  </div>\n",
              "  "
            ]
          },
          "metadata": {},
          "execution_count": 28
        }
      ]
    },
    {
      "cell_type": "markdown",
      "source": [
        "###Ajuste del modelo con todas las variables"
      ],
      "metadata": {
        "id": "OTw4mLROBZSL"
      }
    },
    {
      "cell_type": "code",
      "source": [
        "st.chisqprob = lambda chisq, df: st.chi2.sf(chisq, df)\n",
        "cols=heart_df_constant.columns[:-1]\n",
        "model=sm.Logit(df.TenYearCHD,heart_df_constant[cols])\n",
        "result=model.fit()\n",
        "result.summary()"
      ],
      "metadata": {
        "colab": {
          "base_uri": "https://localhost:8080/",
          "height": 573
        },
        "id": "xqkCAf1DvkhA",
        "outputId": "91de947e-f019-4d28-ea98-2f925f9b2de1"
      },
      "execution_count": 43,
      "outputs": [
        {
          "output_type": "stream",
          "name": "stdout",
          "text": [
            "Optimization terminated successfully.\n",
            "         Current function value: 0.374801\n",
            "         Iterations 7\n"
          ]
        },
        {
          "output_type": "execute_result",
          "data": {
            "text/plain": [
              "<class 'statsmodels.iolib.summary.Summary'>\n",
              "\"\"\"\n",
              "                           Logit Regression Results                           \n",
              "==============================================================================\n",
              "Dep. Variable:             TenYearCHD   No. Observations:                 3390\n",
              "Model:                          Logit   Df Residuals:                     3375\n",
              "Method:                           MLE   Df Model:                           14\n",
              "Date:                Wed, 28 Sep 2022   Pseudo R-squ.:                  0.1160\n",
              "Time:                        15:09:13   Log-Likelihood:                -1270.6\n",
              "converged:                       True   LL-Null:                       -1437.3\n",
              "Covariance Type:            nonrobust   LLR p-value:                 1.194e-62\n",
              "===================================================================================\n",
              "                      coef    std err          z      P>|z|      [0.025      0.975]\n",
              "-----------------------------------------------------------------------------------\n",
              "const              -8.3604      0.717    -11.663      0.000      -9.765      -6.955\n",
              "age                 0.0628      0.007      9.075      0.000       0.049       0.076\n",
              "sex                 0.4814      0.113      4.246      0.000       0.259       0.704\n",
              "is_smoking          0.1362      0.160      0.852      0.394      -0.177       0.450\n",
              "cigsPerDay          0.0214      0.006      3.396      0.001       0.009       0.034\n",
              "BPMeds              0.1836      0.249      0.736      0.462      -0.305       0.672\n",
              "prevalentStroke     1.1795      0.472      2.498      0.012       0.254       2.105\n",
              "prevalentHyp        0.1880      0.145      1.299      0.194      -0.096       0.472\n",
              "diabetes            0.0509      0.334      0.152      0.879      -0.604       0.705\n",
              "totChol             0.0026      0.001      2.295      0.022       0.000       0.005\n",
              "sysBP               0.0159      0.004      4.034      0.000       0.008       0.024\n",
              "diaBP              -0.0067      0.007     -1.017      0.309      -0.020       0.006\n",
              "BMI                 0.0012      0.013      0.088      0.930      -0.025       0.027\n",
              "heartRate          -0.0027      0.004     -0.612      0.540      -0.011       0.006\n",
              "glucose             0.0087      0.002      3.609      0.000       0.004       0.013\n",
              "===================================================================================\n",
              "\"\"\""
            ],
            "text/html": [
              "<table class=\"simpletable\">\n",
              "<caption>Logit Regression Results</caption>\n",
              "<tr>\n",
              "  <th>Dep. Variable:</th>      <td>TenYearCHD</td>    <th>  No. Observations:  </th>  <td>  3390</td>  \n",
              "</tr>\n",
              "<tr>\n",
              "  <th>Model:</th>                 <td>Logit</td>      <th>  Df Residuals:      </th>  <td>  3375</td>  \n",
              "</tr>\n",
              "<tr>\n",
              "  <th>Method:</th>                 <td>MLE</td>       <th>  Df Model:          </th>  <td>    14</td>  \n",
              "</tr>\n",
              "<tr>\n",
              "  <th>Date:</th>            <td>Wed, 28 Sep 2022</td> <th>  Pseudo R-squ.:     </th>  <td>0.1160</td>  \n",
              "</tr>\n",
              "<tr>\n",
              "  <th>Time:</th>                <td>15:09:13</td>     <th>  Log-Likelihood:    </th> <td> -1270.6</td> \n",
              "</tr>\n",
              "<tr>\n",
              "  <th>converged:</th>             <td>True</td>       <th>  LL-Null:           </th> <td> -1437.3</td> \n",
              "</tr>\n",
              "<tr>\n",
              "  <th>Covariance Type:</th>     <td>nonrobust</td>    <th>  LLR p-value:       </th> <td>1.194e-62</td>\n",
              "</tr>\n",
              "</table>\n",
              "<table class=\"simpletable\">\n",
              "<tr>\n",
              "         <td></td>            <th>coef</th>     <th>std err</th>      <th>z</th>      <th>P>|z|</th>  <th>[0.025</th>    <th>0.975]</th>  \n",
              "</tr>\n",
              "<tr>\n",
              "  <th>const</th>           <td>   -8.3604</td> <td>    0.717</td> <td>  -11.663</td> <td> 0.000</td> <td>   -9.765</td> <td>   -6.955</td>\n",
              "</tr>\n",
              "<tr>\n",
              "  <th>age</th>             <td>    0.0628</td> <td>    0.007</td> <td>    9.075</td> <td> 0.000</td> <td>    0.049</td> <td>    0.076</td>\n",
              "</tr>\n",
              "<tr>\n",
              "  <th>sex</th>             <td>    0.4814</td> <td>    0.113</td> <td>    4.246</td> <td> 0.000</td> <td>    0.259</td> <td>    0.704</td>\n",
              "</tr>\n",
              "<tr>\n",
              "  <th>is_smoking</th>      <td>    0.1362</td> <td>    0.160</td> <td>    0.852</td> <td> 0.394</td> <td>   -0.177</td> <td>    0.450</td>\n",
              "</tr>\n",
              "<tr>\n",
              "  <th>cigsPerDay</th>      <td>    0.0214</td> <td>    0.006</td> <td>    3.396</td> <td> 0.001</td> <td>    0.009</td> <td>    0.034</td>\n",
              "</tr>\n",
              "<tr>\n",
              "  <th>BPMeds</th>          <td>    0.1836</td> <td>    0.249</td> <td>    0.736</td> <td> 0.462</td> <td>   -0.305</td> <td>    0.672</td>\n",
              "</tr>\n",
              "<tr>\n",
              "  <th>prevalentStroke</th> <td>    1.1795</td> <td>    0.472</td> <td>    2.498</td> <td> 0.012</td> <td>    0.254</td> <td>    2.105</td>\n",
              "</tr>\n",
              "<tr>\n",
              "  <th>prevalentHyp</th>    <td>    0.1880</td> <td>    0.145</td> <td>    1.299</td> <td> 0.194</td> <td>   -0.096</td> <td>    0.472</td>\n",
              "</tr>\n",
              "<tr>\n",
              "  <th>diabetes</th>        <td>    0.0509</td> <td>    0.334</td> <td>    0.152</td> <td> 0.879</td> <td>   -0.604</td> <td>    0.705</td>\n",
              "</tr>\n",
              "<tr>\n",
              "  <th>totChol</th>         <td>    0.0026</td> <td>    0.001</td> <td>    2.295</td> <td> 0.022</td> <td>    0.000</td> <td>    0.005</td>\n",
              "</tr>\n",
              "<tr>\n",
              "  <th>sysBP</th>           <td>    0.0159</td> <td>    0.004</td> <td>    4.034</td> <td> 0.000</td> <td>    0.008</td> <td>    0.024</td>\n",
              "</tr>\n",
              "<tr>\n",
              "  <th>diaBP</th>           <td>   -0.0067</td> <td>    0.007</td> <td>   -1.017</td> <td> 0.309</td> <td>   -0.020</td> <td>    0.006</td>\n",
              "</tr>\n",
              "<tr>\n",
              "  <th>BMI</th>             <td>    0.0012</td> <td>    0.013</td> <td>    0.088</td> <td> 0.930</td> <td>   -0.025</td> <td>    0.027</td>\n",
              "</tr>\n",
              "<tr>\n",
              "  <th>heartRate</th>       <td>   -0.0027</td> <td>    0.004</td> <td>   -0.612</td> <td> 0.540</td> <td>   -0.011</td> <td>    0.006</td>\n",
              "</tr>\n",
              "<tr>\n",
              "  <th>glucose</th>         <td>    0.0087</td> <td>    0.002</td> <td>    3.609</td> <td> 0.000</td> <td>    0.004</td> <td>    0.013</td>\n",
              "</tr>\n",
              "</table>"
            ]
          },
          "metadata": {},
          "execution_count": 43
        }
      ]
    },
    {
      "cell_type": "code",
      "source": [
        "np.exp(result.params)"
      ],
      "metadata": {
        "colab": {
          "base_uri": "https://localhost:8080/"
        },
        "id": "O8WL6N6Rtc0H",
        "outputId": "4cc13a56-fe70-434b-b99a-a1c3b185cbf8"
      },
      "execution_count": 44,
      "outputs": [
        {
          "output_type": "execute_result",
          "data": {
            "text/plain": [
              "const              0.000234\n",
              "age                1.064788\n",
              "sex                1.618377\n",
              "is_smoking         1.145952\n",
              "cigsPerDay         1.021652\n",
              "BPMeds             1.201536\n",
              "prevalentStroke    3.252832\n",
              "prevalentHyp       1.206812\n",
              "diabetes           1.052210\n",
              "totChol            1.002588\n",
              "sysBP              1.016026\n",
              "diaBP              0.993361\n",
              "BMI                1.001157\n",
              "heartRate          0.997337\n",
              "glucose            1.008787\n",
              "dtype: float64"
            ]
          },
          "metadata": {},
          "execution_count": 44
        }
      ]
    },
    {
      "cell_type": "code",
      "source": [
        "np.exp(result.conf_int())"
      ],
      "metadata": {
        "colab": {
          "base_uri": "https://localhost:8080/",
          "height": 519
        },
        "id": "3DUsIiRUthdJ",
        "outputId": "960d54c5-21b6-4b90-a5a0-c80769bf9776"
      },
      "execution_count": 46,
      "outputs": [
        {
          "output_type": "execute_result",
          "data": {
            "text/plain": [
              "                        0         1\n",
              "const            0.000057  0.000953\n",
              "age              1.050449  1.079322\n",
              "sex              1.295882  2.021128\n",
              "is_smoking       0.837708  1.567619\n",
              "cigsPerDay       1.009098  1.034362\n",
              "BPMeds           0.737048  1.958742\n",
              "prevalentStroke  1.289328  8.206533\n",
              "prevalentHyp     0.908696  1.602731\n",
              "diabetes         0.546811  2.024730\n",
              "totChol          1.000378  1.004804\n",
              "sysBP            1.008207  1.023906\n",
              "diaBP            0.980686  1.006199\n",
              "BMI              0.975618  1.027365\n",
              "heartRate        0.988863  1.005884\n",
              "glucose          1.004006  1.013590"
            ],
            "text/html": [
              "\n",
              "  <div id=\"df-dfa3b595-a295-4924-9d7c-ec4a27f1fbf7\">\n",
              "    <div class=\"colab-df-container\">\n",
              "      <div>\n",
              "<style scoped>\n",
              "    .dataframe tbody tr th:only-of-type {\n",
              "        vertical-align: middle;\n",
              "    }\n",
              "\n",
              "    .dataframe tbody tr th {\n",
              "        vertical-align: top;\n",
              "    }\n",
              "\n",
              "    .dataframe thead th {\n",
              "        text-align: right;\n",
              "    }\n",
              "</style>\n",
              "<table border=\"1\" class=\"dataframe\">\n",
              "  <thead>\n",
              "    <tr style=\"text-align: right;\">\n",
              "      <th></th>\n",
              "      <th>0</th>\n",
              "      <th>1</th>\n",
              "    </tr>\n",
              "  </thead>\n",
              "  <tbody>\n",
              "    <tr>\n",
              "      <th>const</th>\n",
              "      <td>0.000057</td>\n",
              "      <td>0.000953</td>\n",
              "    </tr>\n",
              "    <tr>\n",
              "      <th>age</th>\n",
              "      <td>1.050449</td>\n",
              "      <td>1.079322</td>\n",
              "    </tr>\n",
              "    <tr>\n",
              "      <th>sex</th>\n",
              "      <td>1.295882</td>\n",
              "      <td>2.021128</td>\n",
              "    </tr>\n",
              "    <tr>\n",
              "      <th>is_smoking</th>\n",
              "      <td>0.837708</td>\n",
              "      <td>1.567619</td>\n",
              "    </tr>\n",
              "    <tr>\n",
              "      <th>cigsPerDay</th>\n",
              "      <td>1.009098</td>\n",
              "      <td>1.034362</td>\n",
              "    </tr>\n",
              "    <tr>\n",
              "      <th>BPMeds</th>\n",
              "      <td>0.737048</td>\n",
              "      <td>1.958742</td>\n",
              "    </tr>\n",
              "    <tr>\n",
              "      <th>prevalentStroke</th>\n",
              "      <td>1.289328</td>\n",
              "      <td>8.206533</td>\n",
              "    </tr>\n",
              "    <tr>\n",
              "      <th>prevalentHyp</th>\n",
              "      <td>0.908696</td>\n",
              "      <td>1.602731</td>\n",
              "    </tr>\n",
              "    <tr>\n",
              "      <th>diabetes</th>\n",
              "      <td>0.546811</td>\n",
              "      <td>2.024730</td>\n",
              "    </tr>\n",
              "    <tr>\n",
              "      <th>totChol</th>\n",
              "      <td>1.000378</td>\n",
              "      <td>1.004804</td>\n",
              "    </tr>\n",
              "    <tr>\n",
              "      <th>sysBP</th>\n",
              "      <td>1.008207</td>\n",
              "      <td>1.023906</td>\n",
              "    </tr>\n",
              "    <tr>\n",
              "      <th>diaBP</th>\n",
              "      <td>0.980686</td>\n",
              "      <td>1.006199</td>\n",
              "    </tr>\n",
              "    <tr>\n",
              "      <th>BMI</th>\n",
              "      <td>0.975618</td>\n",
              "      <td>1.027365</td>\n",
              "    </tr>\n",
              "    <tr>\n",
              "      <th>heartRate</th>\n",
              "      <td>0.988863</td>\n",
              "      <td>1.005884</td>\n",
              "    </tr>\n",
              "    <tr>\n",
              "      <th>glucose</th>\n",
              "      <td>1.004006</td>\n",
              "      <td>1.013590</td>\n",
              "    </tr>\n",
              "  </tbody>\n",
              "</table>\n",
              "</div>\n",
              "      <button class=\"colab-df-convert\" onclick=\"convertToInteractive('df-dfa3b595-a295-4924-9d7c-ec4a27f1fbf7')\"\n",
              "              title=\"Convert this dataframe to an interactive table.\"\n",
              "              style=\"display:none;\">\n",
              "        \n",
              "  <svg xmlns=\"http://www.w3.org/2000/svg\" height=\"24px\"viewBox=\"0 0 24 24\"\n",
              "       width=\"24px\">\n",
              "    <path d=\"M0 0h24v24H0V0z\" fill=\"none\"/>\n",
              "    <path d=\"M18.56 5.44l.94 2.06.94-2.06 2.06-.94-2.06-.94-.94-2.06-.94 2.06-2.06.94zm-11 1L8.5 8.5l.94-2.06 2.06-.94-2.06-.94L8.5 2.5l-.94 2.06-2.06.94zm10 10l.94 2.06.94-2.06 2.06-.94-2.06-.94-.94-2.06-.94 2.06-2.06.94z\"/><path d=\"M17.41 7.96l-1.37-1.37c-.4-.4-.92-.59-1.43-.59-.52 0-1.04.2-1.43.59L10.3 9.45l-7.72 7.72c-.78.78-.78 2.05 0 2.83L4 21.41c.39.39.9.59 1.41.59.51 0 1.02-.2 1.41-.59l7.78-7.78 2.81-2.81c.8-.78.8-2.07 0-2.86zM5.41 20L4 18.59l7.72-7.72 1.47 1.35L5.41 20z\"/>\n",
              "  </svg>\n",
              "      </button>\n",
              "      \n",
              "  <style>\n",
              "    .colab-df-container {\n",
              "      display:flex;\n",
              "      flex-wrap:wrap;\n",
              "      gap: 12px;\n",
              "    }\n",
              "\n",
              "    .colab-df-convert {\n",
              "      background-color: #E8F0FE;\n",
              "      border: none;\n",
              "      border-radius: 50%;\n",
              "      cursor: pointer;\n",
              "      display: none;\n",
              "      fill: #1967D2;\n",
              "      height: 32px;\n",
              "      padding: 0 0 0 0;\n",
              "      width: 32px;\n",
              "    }\n",
              "\n",
              "    .colab-df-convert:hover {\n",
              "      background-color: #E2EBFA;\n",
              "      box-shadow: 0px 1px 2px rgba(60, 64, 67, 0.3), 0px 1px 3px 1px rgba(60, 64, 67, 0.15);\n",
              "      fill: #174EA6;\n",
              "    }\n",
              "\n",
              "    [theme=dark] .colab-df-convert {\n",
              "      background-color: #3B4455;\n",
              "      fill: #D2E3FC;\n",
              "    }\n",
              "\n",
              "    [theme=dark] .colab-df-convert:hover {\n",
              "      background-color: #434B5C;\n",
              "      box-shadow: 0px 1px 3px 1px rgba(0, 0, 0, 0.15);\n",
              "      filter: drop-shadow(0px 1px 2px rgba(0, 0, 0, 0.3));\n",
              "      fill: #FFFFFF;\n",
              "    }\n",
              "  </style>\n",
              "\n",
              "      <script>\n",
              "        const buttonEl =\n",
              "          document.querySelector('#df-dfa3b595-a295-4924-9d7c-ec4a27f1fbf7 button.colab-df-convert');\n",
              "        buttonEl.style.display =\n",
              "          google.colab.kernel.accessAllowed ? 'block' : 'none';\n",
              "\n",
              "        async function convertToInteractive(key) {\n",
              "          const element = document.querySelector('#df-dfa3b595-a295-4924-9d7c-ec4a27f1fbf7');\n",
              "          const dataTable =\n",
              "            await google.colab.kernel.invokeFunction('convertToInteractive',\n",
              "                                                     [key], {});\n",
              "          if (!dataTable) return;\n",
              "\n",
              "          const docLinkHtml = 'Like what you see? Visit the ' +\n",
              "            '<a target=\"_blank\" href=https://colab.research.google.com/notebooks/data_table.ipynb>data table notebook</a>'\n",
              "            + ' to learn more about interactive tables.';\n",
              "          element.innerHTML = '';\n",
              "          dataTable['output_type'] = 'display_data';\n",
              "          await google.colab.output.renderOutput(dataTable, element);\n",
              "          const docLink = document.createElement('div');\n",
              "          docLink.innerHTML = docLinkHtml;\n",
              "          element.appendChild(docLink);\n",
              "        }\n",
              "      </script>\n",
              "    </div>\n",
              "  </div>\n",
              "  "
            ]
          },
          "metadata": {},
          "execution_count": 46
        }
      ]
    },
    {
      "cell_type": "code",
      "source": [
        "params = np.exp(result.params)\n",
        "conf = np.exp(result.conf_int())\n",
        "conf['OR'] = params\n",
        "pvalue=round(result.pvalues,3)\n",
        "conf['pvalue']=pvalue\n",
        "conf.columns = ['CI 95%(2.5%)', 'CI 95%(97.5%)', 'Odds Ratio','pvalue']\n",
        "print ((conf))"
      ],
      "metadata": {
        "colab": {
          "base_uri": "https://localhost:8080/"
        },
        "id": "8yjC9JpI-Y2h",
        "outputId": "17304085-7334-481b-92ae-60c762a28b5f"
      },
      "execution_count": 47,
      "outputs": [
        {
          "output_type": "stream",
          "name": "stdout",
          "text": [
            "                 CI 95%(2.5%)  CI 95%(97.5%)  Odds Ratio  pvalue\n",
            "const                0.000057       0.000953    0.000234   0.000\n",
            "age                  1.050449       1.079322    1.064788   0.000\n",
            "sex                  1.295882       2.021128    1.618377   0.000\n",
            "is_smoking           0.837708       1.567619    1.145952   0.394\n",
            "cigsPerDay           1.009098       1.034362    1.021652   0.001\n",
            "BPMeds               0.737048       1.958742    1.201536   0.462\n",
            "prevalentStroke      1.289328       8.206533    3.252832   0.012\n",
            "prevalentHyp         0.908696       1.602731    1.206812   0.194\n",
            "diabetes             0.546811       2.024730    1.052210   0.879\n",
            "totChol              1.000378       1.004804    1.002588   0.022\n",
            "sysBP                1.008207       1.023906    1.016026   0.000\n",
            "diaBP                0.980686       1.006199    0.993361   0.309\n",
            "BMI                  0.975618       1.027365    1.001157   0.930\n",
            "heartRate            0.988863       1.005884    0.997337   0.540\n",
            "glucose              1.004006       1.013590    1.008787   0.000\n"
          ]
        }
      ]
    },
    {
      "cell_type": "code",
      "source": [
        "import sklearn\n",
        "from sklearn.model_selection import train_test_split\n",
        "new_features=df[['age','sex','is_smoking','prevalentHyp','prevalentStroke','diabetes','BPMeds','diaBP','BMI','heartRate','cigsPerDay','totChol','sysBP','glucose','TenYearCHD']]\n",
        "x=new_features.iloc[:,:-1]\n",
        "y=new_features.iloc[:,-1]\n",
        "x_train,x_test,y_train,y_test=train_test_split(x,y,test_size=.20,random_state=5)"
      ],
      "metadata": {
        "id": "NU9Ey-yK-ZaB"
      },
      "execution_count": 48,
      "outputs": []
    },
    {
      "cell_type": "code",
      "source": [
        "from sklearn.linear_model import LogisticRegression\n",
        "logreg=LogisticRegression()\n",
        "logreg.fit(x_train,y_train)\n",
        "y_pred=logreg.predict(x_test)"
      ],
      "metadata": {
        "colab": {
          "base_uri": "https://localhost:8080/"
        },
        "id": "voXFKHb9-Zox",
        "outputId": "bcda0cbd-2219-41b6-c969-6e8915f98aba"
      },
      "execution_count": 49,
      "outputs": [
        {
          "output_type": "stream",
          "name": "stderr",
          "text": [
            "/usr/local/lib/python3.7/dist-packages/sklearn/linear_model/_logistic.py:818: ConvergenceWarning: lbfgs failed to converge (status=1):\n",
            "STOP: TOTAL NO. of ITERATIONS REACHED LIMIT.\n",
            "\n",
            "Increase the number of iterations (max_iter) or scale the data as shown in:\n",
            "    https://scikit-learn.org/stable/modules/preprocessing.html\n",
            "Please also refer to the documentation for alternative solver options:\n",
            "    https://scikit-learn.org/stable/modules/linear_model.html#logistic-regression\n",
            "  extra_warning_msg=_LOGISTIC_SOLVER_CONVERGENCE_MSG,\n"
          ]
        }
      ]
    },
    {
      "cell_type": "code",
      "source": [
        "sklearn.metrics.accuracy_score(y_test,y_pred)"
      ],
      "metadata": {
        "colab": {
          "base_uri": "https://localhost:8080/"
        },
        "id": "yTKDJVoq-Z2k",
        "outputId": "4cff7441-36d8-4916-8e97-5ff20f63a673"
      },
      "execution_count": 50,
      "outputs": [
        {
          "output_type": "execute_result",
          "data": {
            "text/plain": [
              "0.8436578171091446"
            ]
          },
          "metadata": {},
          "execution_count": 50
        }
      ]
    },
    {
      "cell_type": "code",
      "source": [
        "from sklearn.metrics import confusion_matrix\n",
        "cm=confusion_matrix(y_test,y_pred)\n",
        "conf_matrix=pd.DataFrame(data=cm,columns=['Predicted:0','Predicted:1'],index=['Actual:0','Actual:1'])\n",
        "plt.figure(figsize = (8,5))\n",
        "sn.heatmap(conf_matrix, annot=True,fmt='d',cmap=\"YlGnBu\")"
      ],
      "metadata": {
        "colab": {
          "base_uri": "https://localhost:8080/",
          "height": 339
        },
        "id": "8ly2zTza_e9Z",
        "outputId": "8b825e84-faf9-4771-ff07-5a0fb920a574"
      },
      "execution_count": 51,
      "outputs": [
        {
          "output_type": "execute_result",
          "data": {
            "text/plain": [
              "<matplotlib.axes._subplots.AxesSubplot at 0x7f20b501a6d0>"
            ]
          },
          "metadata": {},
          "execution_count": 51
        },
        {
          "output_type": "display_data",
          "data": {
            "text/plain": [
              "<Figure size 576x360 with 2 Axes>"
            ],
            "image/png": "[encoded data removed]"
          },
          "metadata": {
            "needs_background": "light"
          }
        }
      ]
    },
    {
      "cell_type": "code",
      "source": [
        "TN=cm[0,0]\n",
        "TP=cm[1,1]\n",
        "FN=cm[1,0]\n",
        "FP=cm[0,1]\n",
        "sensitivity=TP/float(TP+FN)\n",
        "specificity=TN/float(TN+FP)"
      ],
      "metadata": {
        "id": "hka2wkQ9_l24"
      },
      "execution_count": 52,
      "outputs": []
    },
    {
      "cell_type": "code",
      "source": [
        "print('The acuuracy of the model = TP+TN/(TP+TN+FP+FN) = ',(TP+TN)/float(TP+TN+FP+FN),'\\n',\n",
        "\n",
        "'The Missclassification = 1-Accuracy = ',1-((TP+TN)/float(TP+TN+FP+FN)),'\\n',\n",
        "\n",
        "'Sensitivity or True Positive Rate = TP/(TP+FN) = ',TP/float(TP+FN),'\\n',\n",
        "\n",
        "'Specificity or True Negative Rate = TN/(TN+FP) = ',TN/float(TN+FP),'\\n',\n",
        "\n",
        "'Positive Predictive value = TP/(TP+FP) = ',TP/float(TP+FP),'\\n',\n",
        "\n",
        "'Negative predictive Value = TN/(TN+FN) = ',TN/float(TN+FN),'\\n',\n",
        "\n",
        "'Positive Likelihood Ratio = Sensitivity/(1-Specificity) = ',sensitivity/(1-specificity),'\\n',\n",
        "\n",
        "'Negative likelihood Ratio = (1-Sensitivity)/Specificity = ',(1-sensitivity)/specificity)"
      ],
      "metadata": {
        "colab": {
          "base_uri": "https://localhost:8080/"
        },
        "id": "YxjegZT5_o2J",
        "outputId": "ae713558-32e5-4be4-eb77-b9354b5fd26d"
      },
      "execution_count": 53,
      "outputs": [
        {
          "output_type": "stream",
          "name": "stdout",
          "text": [
            "The acuuracy of the model = TP+TN/(TP+TN+FP+FN) =  0.8436578171091446 \n",
            " The Missclassification = 1-Accuracy =  0.15634218289085544 \n",
            " Sensitivity or True Positive Rate = TP/(TP+FN) =  0.05504587155963303 \n",
            " Specificity or True Negative Rate = TN/(TN+FP) =  0.9947275922671354 \n",
            " Positive Predictive value = TP/(TP+FP) =  0.6666666666666666 \n",
            " Negative predictive Value = TN/(TN+FN) =  0.8460388639760837 \n",
            " Positive Likelihood Ratio = Sensitivity/(1-Specificity) =  10.44036697247714 \n",
            " Negative likelihood Ratio = (1-Sensitivity)/Specificity =  0.9499627192271534\n"
          ]
        }
      ]
    },
    {
      "cell_type": "code",
      "source": [
        "y_pred_prob=logreg.predict_proba(x_test)[:,:]\n",
        "y_pred_prob_df=pd.DataFrame(data=y_pred_prob, columns=['Prob of no heart disease (0)','Prob of Heart Disease (1)'])\n",
        "y_pred_prob_df"
      ],
      "metadata": {
        "colab": {
          "base_uri": "https://localhost:8080/",
          "height": 423
        },
        "id": "lMYsqdM7_pBx",
        "outputId": "30bf4013-8329-4ccf-9256-fe3189a053fa"
      },
      "execution_count": 54,
      "outputs": [
        {
          "output_type": "execute_result",
          "data": {
            "text/plain": [
              "     Prob of no heart disease (0)  Prob of Heart Disease (1)\n",
              "0                        0.868876                   0.131124\n",
              "1                        0.812035                   0.187965\n",
              "2                        0.841675                   0.158325\n",
              "3                        0.906511                   0.093489\n",
              "4                        0.900326                   0.099674\n",
              "..                            ...                        ...\n",
              "673                      0.935560                   0.064440\n",
              "674                      0.878162                   0.121838\n",
              "675                      0.915827                   0.084173\n",
              "676                      0.810618                   0.189382\n",
              "677                      0.873704                   0.126296\n",
              "\n",
              "[678 rows x 2 columns]"
            ],
            "text/html": [
              "\n",
              "  <div id=\"df-f73004fa-1ce0-43ca-8afe-961b3b08f21a\">\n",
              "    <div class=\"colab-df-container\">\n",
              "      <div>\n",
              "<style scoped>\n",
              "    .dataframe tbody tr th:only-of-type {\n",
              "        vertical-align: middle;\n",
              "    }\n",
              "\n",
              "    .dataframe tbody tr th {\n",
              "        vertical-align: top;\n",
              "    }\n",
              "\n",
              "    .dataframe thead th {\n",
              "        text-align: right;\n",
              "    }\n",
              "</style>\n",
              "<table border=\"1\" class=\"dataframe\">\n",
              "  <thead>\n",
              "    <tr style=\"text-align: right;\">\n",
              "      <th></th>\n",
              "      <th>Prob of no heart disease (0)</th>\n",
              "      <th>Prob of Heart Disease (1)</th>\n",
              "    </tr>\n",
              "  </thead>\n",
              "  <tbody>\n",
              "    <tr>\n",
              "      <th>0</th>\n",
              "      <td>0.868876</td>\n",
              "      <td>0.131124</td>\n",
              "    </tr>\n",
              "    <tr>\n",
              "      <th>1</th>\n",
              "      <td>0.812035</td>\n",
              "      <td>0.187965</td>\n",
              "    </tr>\n",
              "    <tr>\n",
              "      <th>2</th>\n",
              "      <td>0.841675</td>\n",
              "      <td>0.158325</td>\n",
              "    </tr>\n",
              "    <tr>\n",
              "      <th>3</th>\n",
              "      <td>0.906511</td>\n",
              "      <td>0.093489</td>\n",
              "    </tr>\n",
              "    <tr>\n",
              "      <th>4</th>\n",
              "      <td>0.900326</td>\n",
              "      <td>0.099674</td>\n",
              "    </tr>\n",
              "    <tr>\n",
              "      <th>...</th>\n",
              "      <td>...</td>\n",
              "      <td>...</td>\n",
              "    </tr>\n",
              "    <tr>\n",
              "      <th>673</th>\n",
              "      <td>0.935560</td>\n",
              "      <td>0.064440</td>\n",
              "    </tr>\n",
              "    <tr>\n",
              "      <th>674</th>\n",
              "      <td>0.878162</td>\n",
              "      <td>0.121838</td>\n",
              "    </tr>\n",
              "    <tr>\n",
              "      <th>675</th>\n",
              "      <td>0.915827</td>\n",
              "      <td>0.084173</td>\n",
              "    </tr>\n",
              "    <tr>\n",
              "      <th>676</th>\n",
              "      <td>0.810618</td>\n",
              "      <td>0.189382</td>\n",
              "    </tr>\n",
              "    <tr>\n",
              "      <th>677</th>\n",
              "      <td>0.873704</td>\n",
              "      <td>0.126296</td>\n",
              "    </tr>\n",
              "  </tbody>\n",
              "</table>\n",
              "<p>678 rows × 2 columns</p>\n",
              "</div>\n",
              "      <button class=\"colab-df-convert\" onclick=\"convertToInteractive('df-f73004fa-1ce0-43ca-8afe-961b3b08f21a')\"\n",
              "              title=\"Convert this dataframe to an interactive table.\"\n",
              "              style=\"display:none;\">\n",
              "        \n",
              "  <svg xmlns=\"http://www.w3.org/2000/svg\" height=\"24px\"viewBox=\"0 0 24 24\"\n",
              "       width=\"24px\">\n",
              "    <path d=\"M0 0h24v24H0V0z\" fill=\"none\"/>\n",
              "    <path d=\"M18.56 5.44l.94 2.06.94-2.06 2.06-.94-2.06-.94-.94-2.06-.94 2.06-2.06.94zm-11 1L8.5 8.5l.94-2.06 2.06-.94-2.06-.94L8.5 2.5l-.94 2.06-2.06.94zm10 10l.94 2.06.94-2.06 2.06-.94-2.06-.94-.94-2.06-.94 2.06-2.06.94z\"/><path d=\"M17.41 7.96l-1.37-1.37c-.4-.4-.92-.59-1.43-.59-.52 0-1.04.2-1.43.59L10.3 9.45l-7.72 7.72c-.78.78-.78 2.05 0 2.83L4 21.41c.39.39.9.59 1.41.59.51 0 1.02-.2 1.41-.59l7.78-7.78 2.81-2.81c.8-.78.8-2.07 0-2.86zM5.41 20L4 18.59l7.72-7.72 1.47 1.35L5.41 20z\"/>\n",
              "  </svg>\n",
              "      </button>\n",
              "      \n",
              "  <style>\n",
              "    .colab-df-container {\n",
              "      display:flex;\n",
              "      flex-wrap:wrap;\n",
              "      gap: 12px;\n",
              "    }\n",
              "\n",
              "    .colab-df-convert {\n",
              "      background-color: #E8F0FE;\n",
              "      border: none;\n",
              "      border-radius: 50%;\n",
              "      cursor: pointer;\n",
              "      display: none;\n",
              "      fill: #1967D2;\n",
              "      height: 32px;\n",
              "      padding: 0 0 0 0;\n",
              "      width: 32px;\n",
              "    }\n",
              "\n",
              "    .colab-df-convert:hover {\n",
              "      background-color: #E2EBFA;\n",
              "      box-shadow: 0px 1px 2px rgba(60, 64, 67, 0.3), 0px 1px 3px 1px rgba(60, 64, 67, 0.15);\n",
              "      fill: #174EA6;\n",
              "    }\n",
              "\n",
              "    [theme=dark] .colab-df-convert {\n",
              "      background-color: #3B4455;\n",
              "      fill: #D2E3FC;\n",
              "    }\n",
              "\n",
              "    [theme=dark] .colab-df-convert:hover {\n",
              "      background-color: #434B5C;\n",
              "      box-shadow: 0px 1px 3px 1px rgba(0, 0, 0, 0.15);\n",
              "      filter: drop-shadow(0px 1px 2px rgba(0, 0, 0, 0.3));\n",
              "      fill: #FFFFFF;\n",
              "    }\n",
              "  </style>\n",
              "\n",
              "      <script>\n",
              "        const buttonEl =\n",
              "          document.querySelector('#df-f73004fa-1ce0-43ca-8afe-961b3b08f21a button.colab-df-convert');\n",
              "        buttonEl.style.display =\n",
              "          google.colab.kernel.accessAllowed ? 'block' : 'none';\n",
              "\n",
              "        async function convertToInteractive(key) {\n",
              "          const element = document.querySelector('#df-f73004fa-1ce0-43ca-8afe-961b3b08f21a');\n",
              "          const dataTable =\n",
              "            await google.colab.kernel.invokeFunction('convertToInteractive',\n",
              "                                                     [key], {});\n",
              "          if (!dataTable) return;\n",
              "\n",
              "          const docLinkHtml = 'Like what you see? Visit the ' +\n",
              "            '<a target=\"_blank\" href=https://colab.research.google.com/notebooks/data_table.ipynb>data table notebook</a>'\n",
              "            + ' to learn more about interactive tables.';\n",
              "          element.innerHTML = '';\n",
              "          dataTable['output_type'] = 'display_data';\n",
              "          await google.colab.output.renderOutput(dataTable, element);\n",
              "          const docLink = document.createElement('div');\n",
              "          docLink.innerHTML = docLinkHtml;\n",
              "          element.appendChild(docLink);\n",
              "        }\n",
              "      </script>\n",
              "    </div>\n",
              "  </div>\n",
              "  "
            ]
          },
          "metadata": {},
          "execution_count": 54
        }
      ]
    },
    {
      "cell_type": "markdown",
      "source": [
        "Para que se utilicen solo aquellas variables que van a ser significativas estad ısticamente dentro del modelo, se ha utilizado el enfoque de eliminación hacia atrás (“backward elimination approach”). Este se ha utilizado para eliminar los atributos con el valor P más alto de uno en uno, seguido de la ejecución de la regresión repetidamente hasta que todos los atributos tengan p-valores inferiores al nivel de significación, que es 0,05."
      ],
      "metadata": {
        "id": "zB-UkBCPBjA9"
      }
    },
    {
      "cell_type": "code",
      "source": [
        "def back_feature_elem (data_frame,dep_var,col_list):\n",
        "\n",
        "    while len(col_list)>0 :\n",
        "        model=sm.Logit(dep_var,data_frame[col_list])\n",
        "        result=model.fit(disp=0)\n",
        "        largest_pvalue=round(result.pvalues,3).nlargest(1)\n",
        "        if largest_pvalue[0]<(0.05):\n",
        "            return result\n",
        "            break\n",
        "        else:\n",
        "            col_list=col_list.drop(largest_pvalue.index)\n",
        "\n",
        "cols=heart_df_constant.columns[:-1]\n",
        "result=back_feature_elem(heart_df_constant,df.TenYearCHD,cols)"
      ],
      "metadata": {
        "id": "VJN2Q8N5s3LV"
      },
      "execution_count": 73,
      "outputs": []
    },
    {
      "cell_type": "code",
      "source": [
        "result.summary()"
      ],
      "metadata": {
        "colab": {
          "base_uri": "https://localhost:8080/",
          "height": 374
        },
        "id": "TtdklUFYvay9",
        "outputId": "98741f78-f81b-4067-814e-2a449f56f477"
      },
      "execution_count": 74,
      "outputs": [
        {
          "output_type": "execute_result",
          "data": {
            "text/plain": [
              "<class 'statsmodels.iolib.summary.Summary'>\n",
              "\"\"\"\n",
              "                           Logit Regression Results                           \n",
              "==============================================================================\n",
              "Dep. Variable:             TenYearCHD   No. Observations:                 3390\n",
              "Model:                          Logit   Df Residuals:                     3382\n",
              "Method:                           MLE   Df Model:                            7\n",
              "Date:                Wed, 28 Sep 2022   Pseudo R-squ.:                  0.1145\n",
              "Time:                        15:18:07   Log-Likelihood:                -1272.7\n",
              "converged:                       True   LL-Null:                       -1437.3\n",
              "Covariance Type:            nonrobust   LLR p-value:                 3.478e-67\n",
              "===================================================================================\n",
              "                      coef    std err          z      P>|z|      [0.025      0.975]\n",
              "-----------------------------------------------------------------------------------\n",
              "const              -9.0521      0.493    -18.367      0.000     -10.018      -8.086\n",
              "age                 0.0644      0.007      9.552      0.000       0.051       0.078\n",
              "sex                 0.4761      0.111      4.289      0.000       0.259       0.694\n",
              "cigsPerDay          0.0250      0.004      5.737      0.000       0.016       0.034\n",
              "prevalentStroke     1.2384      0.466      2.656      0.008       0.324       2.152\n",
              "totChol             0.0026      0.001      2.308      0.021       0.000       0.005\n",
              "sysBP               0.0157      0.002      7.022      0.000       0.011       0.020\n",
              "glucose             0.0089      0.002      4.895      0.000       0.005       0.013\n",
              "===================================================================================\n",
              "\"\"\""
            ],
            "text/html": [
              "<table class=\"simpletable\">\n",
              "<caption>Logit Regression Results</caption>\n",
              "<tr>\n",
              "  <th>Dep. Variable:</th>      <td>TenYearCHD</td>    <th>  No. Observations:  </th>  <td>  3390</td>  \n",
              "</tr>\n",
              "<tr>\n",
              "  <th>Model:</th>                 <td>Logit</td>      <th>  Df Residuals:      </th>  <td>  3382</td>  \n",
              "</tr>\n",
              "<tr>\n",
              "  <th>Method:</th>                 <td>MLE</td>       <th>  Df Model:          </th>  <td>     7</td>  \n",
              "</tr>\n",
              "<tr>\n",
              "  <th>Date:</th>            <td>Wed, 28 Sep 2022</td> <th>  Pseudo R-squ.:     </th>  <td>0.1145</td>  \n",
              "</tr>\n",
              "<tr>\n",
              "  <th>Time:</th>                <td>15:18:07</td>     <th>  Log-Likelihood:    </th> <td> -1272.7</td> \n",
              "</tr>\n",
              "<tr>\n",
              "  <th>converged:</th>             <td>True</td>       <th>  LL-Null:           </th> <td> -1437.3</td> \n",
              "</tr>\n",
              "<tr>\n",
              "  <th>Covariance Type:</th>     <td>nonrobust</td>    <th>  LLR p-value:       </th> <td>3.478e-67</td>\n",
              "</tr>\n",
              "</table>\n",
              "<table class=\"simpletable\">\n",
              "<tr>\n",
              "         <td></td>            <th>coef</th>     <th>std err</th>      <th>z</th>      <th>P>|z|</th>  <th>[0.025</th>    <th>0.975]</th>  \n",
              "</tr>\n",
              "<tr>\n",
              "  <th>const</th>           <td>   -9.0521</td> <td>    0.493</td> <td>  -18.367</td> <td> 0.000</td> <td>  -10.018</td> <td>   -8.086</td>\n",
              "</tr>\n",
              "<tr>\n",
              "  <th>age</th>             <td>    0.0644</td> <td>    0.007</td> <td>    9.552</td> <td> 0.000</td> <td>    0.051</td> <td>    0.078</td>\n",
              "</tr>\n",
              "<tr>\n",
              "  <th>sex</th>             <td>    0.4761</td> <td>    0.111</td> <td>    4.289</td> <td> 0.000</td> <td>    0.259</td> <td>    0.694</td>\n",
              "</tr>\n",
              "<tr>\n",
              "  <th>cigsPerDay</th>      <td>    0.0250</td> <td>    0.004</td> <td>    5.737</td> <td> 0.000</td> <td>    0.016</td> <td>    0.034</td>\n",
              "</tr>\n",
              "<tr>\n",
              "  <th>prevalentStroke</th> <td>    1.2384</td> <td>    0.466</td> <td>    2.656</td> <td> 0.008</td> <td>    0.324</td> <td>    2.152</td>\n",
              "</tr>\n",
              "<tr>\n",
              "  <th>totChol</th>         <td>    0.0026</td> <td>    0.001</td> <td>    2.308</td> <td> 0.021</td> <td>    0.000</td> <td>    0.005</td>\n",
              "</tr>\n",
              "<tr>\n",
              "  <th>sysBP</th>           <td>    0.0157</td> <td>    0.002</td> <td>    7.022</td> <td> 0.000</td> <td>    0.011</td> <td>    0.020</td>\n",
              "</tr>\n",
              "<tr>\n",
              "  <th>glucose</th>         <td>    0.0089</td> <td>    0.002</td> <td>    4.895</td> <td> 0.000</td> <td>    0.005</td> <td>    0.013</td>\n",
              "</tr>\n",
              "</table>"
            ]
          },
          "metadata": {},
          "execution_count": 74
        }
      ]
    },
    {
      "cell_type": "code",
      "source": [
        "params = np.exp(result.params)\n",
        "conf = np.exp(result.conf_int())\n",
        "conf['OR'] = params\n",
        "pvalue=round(result.pvalues,3)\n",
        "conf['pvalue']=pvalue\n",
        "conf.columns = ['CI 95%(2.5%)', 'CI 95%(97.5%)', 'Odds Ratio','pvalue']\n",
        "print ((conf))"
      ],
      "metadata": {
        "colab": {
          "base_uri": "https://localhost:8080/"
        },
        "id": "2QjUJ9A-v3z5",
        "outputId": "f73a25aa-9b47-4ca0-f593-4117c0f30fab"
      },
      "execution_count": 75,
      "outputs": [
        {
          "output_type": "stream",
          "name": "stdout",
          "text": [
            "                 CI 95%(2.5%)  CI 95%(97.5%)  Odds Ratio  pvalue\n",
            "const                0.000045       0.000308    0.000117   0.000\n",
            "age                  1.052505       1.080685    1.066502   0.000\n",
            "sex                  1.295084       2.001118    1.609850   0.000\n",
            "cigsPerDay           1.016599       1.034116    1.025320   0.000\n",
            "prevalentStroke      1.383136       8.605056    3.449922   0.008\n",
            "totChol              1.000391       1.004806    1.002596   0.021\n",
            "sysBP                1.011390       1.020299    1.015835   0.000\n",
            "glucose              1.005378       1.012607    1.008986   0.000\n"
          ]
        }
      ]
    },
    {
      "cell_type": "markdown",
      "source": [
        "###Ajuste del modelo más parsimonioso"
      ],
      "metadata": {
        "id": "65klN51kCA2w"
      }
    },
    {
      "cell_type": "code",
      "source": [
        "import sklearn\n",
        "from sklearn.model_selection import train_test_split\n",
        "new_features=df[['age','sex','cigsPerDay','prevalentStroke','totChol','sysBP','glucose','TenYearCHD']]\n",
        "x=new_features.iloc[:,:-1]\n",
        "y=new_features.iloc[:,-1]\n",
        "x_train,x_test,y_train,y_test=train_test_split(x,y,test_size=.25,random_state=12345)"
      ],
      "metadata": {
        "id": "omUdGYrT07JV"
      },
      "execution_count": 96,
      "outputs": []
    },
    {
      "cell_type": "code",
      "source": [
        "from sklearn.linear_model import LogisticRegression\n",
        "logreg=LogisticRegression()\n",
        "logreg.fit(x_train,y_train)\n",
        "y_pred=logreg.predict(x_test)"
      ],
      "metadata": {
        "colab": {
          "base_uri": "https://localhost:8080/"
        },
        "id": "bkLJreae1sm7",
        "outputId": "1f233ed4-2091-4c2e-84f4-6925cafd004b"
      },
      "execution_count": 97,
      "outputs": [
        {
          "output_type": "stream",
          "name": "stderr",
          "text": [
            "/usr/local/lib/python3.7/dist-packages/sklearn/linear_model/_logistic.py:818: ConvergenceWarning: lbfgs failed to converge (status=1):\n",
            "STOP: TOTAL NO. of ITERATIONS REACHED LIMIT.\n",
            "\n",
            "Increase the number of iterations (max_iter) or scale the data as shown in:\n",
            "    https://scikit-learn.org/stable/modules/preprocessing.html\n",
            "Please also refer to the documentation for alternative solver options:\n",
            "    https://scikit-learn.org/stable/modules/linear_model.html#logistic-regression\n",
            "  extra_warning_msg=_LOGISTIC_SOLVER_CONVERGENCE_MSG,\n"
          ]
        }
      ]
    },
    {
      "cell_type": "code",
      "source": [
        "sklearn.metrics.accuracy_score(y_test,y_pred)"
      ],
      "metadata": {
        "colab": {
          "base_uri": "https://localhost:8080/"
        },
        "id": "PTJ2VI2M1wCE",
        "outputId": "4abffc37-2efc-479b-80c8-69f335730a88"
      },
      "execution_count": 98,
      "outputs": [
        {
          "output_type": "execute_result",
          "data": {
            "text/plain": [
              "0.8596698113207547"
            ]
          },
          "metadata": {},
          "execution_count": 98
        }
      ]
    },
    {
      "cell_type": "markdown",
      "source": [
        "####Métrica de evaluación del modelo"
      ],
      "metadata": {
        "id": "pPrKiIjBCGGY"
      }
    },
    {
      "cell_type": "code",
      "source": [
        "from sklearn.metrics import confusion_matrix\n",
        "cm=confusion_matrix(y_test,y_pred)\n",
        "conf_matrix=pd.DataFrame(data=cm,columns=['Predicted:0','Predicted:1'],index=['Actual:0','Actual:1'])\n",
        "plt.figure(figsize = (8,5))\n",
        "sn.heatmap(conf_matrix, annot=True,fmt='d',cmap=\"YlGnBu\")"
      ],
      "metadata": {
        "colab": {
          "base_uri": "https://localhost:8080/",
          "height": 339
        },
        "id": "aepla8kB1y1G",
        "outputId": "a133e6a8-3be3-4130-a233-c423759c192c"
      },
      "execution_count": 99,
      "outputs": [
        {
          "output_type": "execute_result",
          "data": {
            "text/plain": [
              "<matplotlib.axes._subplots.AxesSubplot at 0x7f20b3f74490>"
            ]
          },
          "metadata": {},
          "execution_count": 99
        },
        {
          "output_type": "display_data",
          "data": {
            "text/plain": [
              "<Figure size 576x360 with 2 Axes>"
            ],
            "image/png": "[encoded data removed]"
          },
          "metadata": {
            "needs_background": "light"
          }
        }
      ]
    },
    {
      "cell_type": "code",
      "source": [
        "TN=cm[0,0]\n",
        "TP=cm[1,1]\n",
        "FN=cm[1,0]\n",
        "FP=cm[0,1]\n",
        "sensitivity=TP/float(TP+FN)\n",
        "specificity=TN/float(TN+FP)"
      ],
      "metadata": {
        "id": "5tgY73fl16iD"
      },
      "execution_count": 90,
      "outputs": []
    },
    {
      "cell_type": "code",
      "source": [
        "Precision=TP/float(TP+FP)\n",
        "Sensibilidad=TP/float(TP+FN)\n",
        "\n",
        "print('Exactitud del modelo = TP+TN/(TP+TN+FP+FN) = ',(TP+TN)/float(TP+TN+FP+FN),'\\n',\n",
        "\n",
        "'No Exactitud = 1-Exactitud = ',1-((TP+TN)/float(TP+TN+FP+FN)),'\\n',\n",
        "\n",
        "'Precisón = TP/(TP+FP) = ',TP/float(TP+FP),'\\n',\n",
        "\n",
        "'Sensibilidad = TP/(TP+FN) = ',TP/float(TP+FN),'\\n',\n",
        "\n",
        "'Especifidad = TN/(TN+FP) = ',TN/float(TN+FP),'\\n',\n",
        "\n",
        "'Valor predictivo positivo = TP/(TP+FP) = ',TP/float(TP+FP),'\\n',\n",
        "\n",
        "'Valor predictivo negativo = TN/(TN+FN) = ',TN/float(TN+FN),'\\n',\n",
        "\n",
        "'Puntaje F1 (F1 Score) = 2*Precision*Sensibilidad/Precision+Sensibilidad = ', \n",
        "(2*Precision*Sensibilidad)/(Precision+Sensibilidad))"
      ],
      "metadata": {
        "colab": {
          "base_uri": "https://localhost:8080/"
        },
        "id": "P9q02bBm17RM",
        "outputId": "ac338d70-df0a-41ea-8962-e195bdba98dd"
      },
      "execution_count": 109,
      "outputs": [
        {
          "output_type": "stream",
          "name": "stdout",
          "text": [
            "Exactitud del modelo = TP+TN/(TP+TN+FP+FN) =  0.8596698113207547 \n",
            " No Exactitud = 1-Exactitud =  0.1403301886792453 \n",
            " Precisón = TP/(TP+FP) =  0.5833333333333334 \n",
            " Sensibilidad = TP/(TP+FN) =  0.05785123966942149 \n",
            " Especifidad = TN/(TN+FP) =  0.9931224209078404 \n",
            " Valor predictivo positivo = TP/(TP+FP) =  0.5833333333333334 \n",
            " Valor predictivo negativo = TN/(TN+FN) =  0.8636363636363636 \n",
            " Puntaje F1 (F1 Score) = 2*Precision*Sensibilidad/Precision+Sensibilidad =  0.10526315789473684\n"
          ]
        }
      ]
    },
    {
      "cell_type": "code",
      "source": [
        "y_pred_prob=logreg.predict_proba(x_test)[:,:]\n",
        "y_pred_prob_df=pd.DataFrame(data=y_pred_prob, columns=['Prob of no heart disease (0)','Prob of Heart Disease (1)'])\n",
        "y_pred_prob_df"
      ],
      "metadata": {
        "colab": {
          "base_uri": "https://localhost:8080/",
          "height": 423
        },
        "id": "TUlu6n8u6QqC",
        "outputId": "9986f1bd-9f56-4977-ccd1-79fb0ad47dcb"
      },
      "execution_count": 92,
      "outputs": [
        {
          "output_type": "execute_result",
          "data": {
            "text/plain": [
              "     Prob of no heart disease (0)  Prob of Heart Disease (1)\n",
              "0                        0.762062                   0.237938\n",
              "1                        0.813525                   0.186475\n",
              "2                        0.831055                   0.168945\n",
              "3                        0.542980                   0.457020\n",
              "4                        0.928304                   0.071696\n",
              "..                            ...                        ...\n",
              "843                      0.944521                   0.055479\n",
              "844                      0.812425                   0.187575\n",
              "845                      0.835850                   0.164150\n",
              "846                      0.862866                   0.137134\n",
              "847                      0.803839                   0.196161\n",
              "\n",
              "[848 rows x 2 columns]"
            ],
            "text/html": [
              "\n",
              "  <div id=\"df-9644a6ad-4156-486a-bd41-4d15757b6bdf\">\n",
              "    <div class=\"colab-df-container\">\n",
              "      <div>\n",
              "<style scoped>\n",
              "    .dataframe tbody tr th:only-of-type {\n",
              "        vertical-align: middle;\n",
              "    }\n",
              "\n",
              "    .dataframe tbody tr th {\n",
              "        vertical-align: top;\n",
              "    }\n",
              "\n",
              "    .dataframe thead th {\n",
              "        text-align: right;\n",
              "    }\n",
              "</style>\n",
              "<table border=\"1\" class=\"dataframe\">\n",
              "  <thead>\n",
              "    <tr style=\"text-align: right;\">\n",
              "      <th></th>\n",
              "      <th>Prob of no heart disease (0)</th>\n",
              "      <th>Prob of Heart Disease (1)</th>\n",
              "    </tr>\n",
              "  </thead>\n",
              "  <tbody>\n",
              "    <tr>\n",
              "      <th>0</th>\n",
              "      <td>0.762062</td>\n",
              "      <td>0.237938</td>\n",
              "    </tr>\n",
              "    <tr>\n",
              "      <th>1</th>\n",
              "      <td>0.813525</td>\n",
              "      <td>0.186475</td>\n",
              "    </tr>\n",
              "    <tr>\n",
              "      <th>2</th>\n",
              "      <td>0.831055</td>\n",
              "      <td>0.168945</td>\n",
              "    </tr>\n",
              "    <tr>\n",
              "      <th>3</th>\n",
              "      <td>0.542980</td>\n",
              "      <td>0.457020</td>\n",
              "    </tr>\n",
              "    <tr>\n",
              "      <th>4</th>\n",
              "      <td>0.928304</td>\n",
              "      <td>0.071696</td>\n",
              "    </tr>\n",
              "    <tr>\n",
              "      <th>...</th>\n",
              "      <td>...</td>\n",
              "      <td>...</td>\n",
              "    </tr>\n",
              "    <tr>\n",
              "      <th>843</th>\n",
              "      <td>0.944521</td>\n",
              "      <td>0.055479</td>\n",
              "    </tr>\n",
              "    <tr>\n",
              "      <th>844</th>\n",
              "      <td>0.812425</td>\n",
              "      <td>0.187575</td>\n",
              "    </tr>\n",
              "    <tr>\n",
              "      <th>845</th>\n",
              "      <td>0.835850</td>\n",
              "      <td>0.164150</td>\n",
              "    </tr>\n",
              "    <tr>\n",
              "      <th>846</th>\n",
              "      <td>0.862866</td>\n",
              "      <td>0.137134</td>\n",
              "    </tr>\n",
              "    <tr>\n",
              "      <th>847</th>\n",
              "      <td>0.803839</td>\n",
              "      <td>0.196161</td>\n",
              "    </tr>\n",
              "  </tbody>\n",
              "</table>\n",
              "<p>848 rows × 2 columns</p>\n",
              "</div>\n",
              "      <button class=\"colab-df-convert\" onclick=\"convertToInteractive('df-9644a6ad-4156-486a-bd41-4d15757b6bdf')\"\n",
              "              title=\"Convert this dataframe to an interactive table.\"\n",
              "              style=\"display:none;\">\n",
              "        \n",
              "  <svg xmlns=\"http://www.w3.org/2000/svg\" height=\"24px\"viewBox=\"0 0 24 24\"\n",
              "       width=\"24px\">\n",
              "    <path d=\"M0 0h24v24H0V0z\" fill=\"none\"/>\n",
              "    <path d=\"M18.56 5.44l.94 2.06.94-2.06 2.06-.94-2.06-.94-.94-2.06-.94 2.06-2.06.94zm-11 1L8.5 8.5l.94-2.06 2.06-.94-2.06-.94L8.5 2.5l-.94 2.06-2.06.94zm10 10l.94 2.06.94-2.06 2.06-.94-2.06-.94-.94-2.06-.94 2.06-2.06.94z\"/><path d=\"M17.41 7.96l-1.37-1.37c-.4-.4-.92-.59-1.43-.59-.52 0-1.04.2-1.43.59L10.3 9.45l-7.72 7.72c-.78.78-.78 2.05 0 2.83L4 21.41c.39.39.9.59 1.41.59.51 0 1.02-.2 1.41-.59l7.78-7.78 2.81-2.81c.8-.78.8-2.07 0-2.86zM5.41 20L4 18.59l7.72-7.72 1.47 1.35L5.41 20z\"/>\n",
              "  </svg>\n",
              "      </button>\n",
              "      \n",
              "  <style>\n",
              "    .colab-df-container {\n",
              "      display:flex;\n",
              "      flex-wrap:wrap;\n",
              "      gap: 12px;\n",
              "    }\n",
              "\n",
              "    .colab-df-convert {\n",
              "      background-color: #E8F0FE;\n",
              "      border: none;\n",
              "      border-radius: 50%;\n",
              "      cursor: pointer;\n",
              "      display: none;\n",
              "      fill: #1967D2;\n",
              "      height: 32px;\n",
              "      padding: 0 0 0 0;\n",
              "      width: 32px;\n",
              "    }\n",
              "\n",
              "    .colab-df-convert:hover {\n",
              "      background-color: #E2EBFA;\n",
              "      box-shadow: 0px 1px 2px rgba(60, 64, 67, 0.3), 0px 1px 3px 1px rgba(60, 64, 67, 0.15);\n",
              "      fill: #174EA6;\n",
              "    }\n",
              "\n",
              "    [theme=dark] .colab-df-convert {\n",
              "      background-color: #3B4455;\n",
              "      fill: #D2E3FC;\n",
              "    }\n",
              "\n",
              "    [theme=dark] .colab-df-convert:hover {\n",
              "      background-color: #434B5C;\n",
              "      box-shadow: 0px 1px 3px 1px rgba(0, 0, 0, 0.15);\n",
              "      filter: drop-shadow(0px 1px 2px rgba(0, 0, 0, 0.3));\n",
              "      fill: #FFFFFF;\n",
              "    }\n",
              "  </style>\n",
              "\n",
              "      <script>\n",
              "        const buttonEl =\n",
              "          document.querySelector('#df-9644a6ad-4156-486a-bd41-4d15757b6bdf button.colab-df-convert');\n",
              "        buttonEl.style.display =\n",
              "          google.colab.kernel.accessAllowed ? 'block' : 'none';\n",
              "\n",
              "        async function convertToInteractive(key) {\n",
              "          const element = document.querySelector('#df-9644a6ad-4156-486a-bd41-4d15757b6bdf');\n",
              "          const dataTable =\n",
              "            await google.colab.kernel.invokeFunction('convertToInteractive',\n",
              "                                                     [key], {});\n",
              "          if (!dataTable) return;\n",
              "\n",
              "          const docLinkHtml = 'Like what you see? Visit the ' +\n",
              "            '<a target=\"_blank\" href=https://colab.research.google.com/notebooks/data_table.ipynb>data table notebook</a>'\n",
              "            + ' to learn more about interactive tables.';\n",
              "          element.innerHTML = '';\n",
              "          dataTable['output_type'] = 'display_data';\n",
              "          await google.colab.output.renderOutput(dataTable, element);\n",
              "          const docLink = document.createElement('div');\n",
              "          docLink.innerHTML = docLinkHtml;\n",
              "          element.appendChild(docLink);\n",
              "        }\n",
              "      </script>\n",
              "    </div>\n",
              "  </div>\n",
              "  "
            ]
          },
          "metadata": {},
          "execution_count": 92
        }
      ]
    }
  ],
  "metadata": {
    "colab": {
      "collapsed_sections": [],
      "provenance": [],
      "toc_visible": true
    },
    "kernelspec": {
      "display_name": "Python 3",
      "name": "python3"
    },
    "language_info": {
      "name": "python"
    }
  },
  "nbformat": 4,
  "nbformat_minor": 0
}